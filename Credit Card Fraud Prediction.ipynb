{
 "cells": [
  {
   "cell_type": "markdown",
   "metadata": {},
   "source": [
    "# Data Science Project: Credit Card Fraud prediction"
   ]
  },
  {
   "cell_type": "markdown",
   "metadata": {},
   "source": [
    "\n",
    "**Name:** Shilpa Gopalakrishna\n"
   ]
  },
  {
   "cell_type": "markdown",
   "metadata": {},
   "source": [
    "# Table of contents\n",
    "1. [Aims, objectives and plan](#section1)<br>\n",
    "    a. [Aims and objectives](#section1.a)<br>\n",
    "    b. [Plan](#section1.b)\n",
    "2. [Understanding the case study](#section2)\n",
    "3. [Pre-processing applied](#section3)<br>\n",
    "    a. [Preparing the labels appropriately](#section3.a)<br>\n",
    "    b. [Removing synonymous and noisy attributes](#section3.b)<br>\n",
    "    c. [Dealing with missing values](#section3.c)<br>\n",
    "    d. [Rescaling if necessary](#section3.d)<br>\n",
    "    e. [Other](#section3.e)\n",
    "4. [Technique 1 ](#section4)<br>\n",
    "    a. [Discuss your motivation and provide a schematic figure of the process](#section4.a)<br>\n",
    "    b. [Setting hyper parameters with rationale](#section4.b)<br>\n",
    "    c. [Optimising hyper parameters](#section4.c)<br>\n",
    "    d. [Performance metrics for training](#section4.d)<br>\n",
    "5. [Technique 2](#section5)<br>\n",
    "    a. [Discuss your motivation and provide a schematic figure of the process](#section5.a)<br>\n",
    "    b. [Setting hyper parameters with rationale](#section5.b)<br>\n",
    "    c. [Optimising hyper parameters](#section5.c)<br>\n",
    "    d. [Performance metrics for training](#section5.d)<br>\n",
    "6. [Comparison of metrics performance for testing](#section6)<br>\n",
    "    a. [Use of cross validation for both techniques to deal with over-fitting](#section6.a)<br>\n",
    "    b. [Comparison with appropriate metrics for testing](#section6.b)<br>\n",
    "    c. [Model selection (ROC or other charts)](#section6.c)<br>\n",
    "7. [Final recommendation of best model](#section7)<br>\n",
    "    a. [Discuss the results from a technical perspective, for example, overfitting discussion, complexity and efficiency](#section7.a)<br>\n",
    "    b. [Discuss the results from a business perspective, for example, results interpretation, relevance and balance with technical perspective](#section7.b)<br>\n",
    "8. [Conclusion](#section8)<br>\n",
    "    a. [What has been successfully accomplished and what has not been successful?](#section8.a)<br>\n",
    "    b. [Reflecting back on the analysis, what could you have done differently if you were to do the project again?](#section8.b)<br>\n",
    "    c. [Provide a wish list of future work that you would like to do](#section8.c)"
   ]
  },
  {
   "cell_type": "markdown",
   "metadata": {},
   "source": [
    "## Case study"
   ]
  },
  {
   "cell_type": "markdown",
   "metadata": {},
   "source": [
    "Refer to the brief"
   ]
  },
  {
   "cell_type": "markdown",
   "metadata": {},
   "source": [
    "## 1. Aims, objectives and plan (4 marks)<a class=\"anchor\" id=\"section1\"></a>"
   ]
  },
  {
   "cell_type": "markdown",
   "metadata": {},
   "source": [
    "### a) Aims and objectives<a class=\"anchor\" id=\"section1.a\"></a>\n",
    "Although we have already stated what is required, please formally state the aims and objectives of the project in your own words.\n",
    "(100-200 words)\n",
    "\n",
    "**Explanation: Aims & Objective**\n",
    "\n",
    "The main objective of the task is to categorise/classify a credit card transaction as Fraud (Class as 1) or non-fraud (Class as 0) fraud. A classification or clustering model must be created using Credit card fraud dataset. Allowed library is only scikit-learn. As the dataset is imbalanced, pre-processing must be applied to handle imbalance in data & apply modelling and evaluation. \n",
    "\n",
    "The dataset provided includes 31 features and approx 2.75 lakhs records & 29 features are Principal component convereted as the bank data is confidential.\n",
    "\n",
    "As part of evaluation, the model should detect fraud or non-fraud and should be within the below allowed budget of wrong predictions. \n",
    "\n",
    "1.\t**Allowed FalsePositive** is £20k for each £100m of actual Non-Fraudulent transactions (True Negative), costs bank 1K per FalsePositive.\n",
    "2.\t**Allowed FalseNegative** is £50k for each £200k of actual Fraudulent transactions (True Positive), costs bank 10K per FalseNegative.\n"
   ]
  },
  {
   "attachments": {},
   "cell_type": "markdown",
   "metadata": {},
   "source": [
    "###  b) Plan<a class=\"anchor\" id=\"section1.b\"></a>\n",
    "Please demonstrate how you have conducted the project with a simple Gantt chart.\n",
    "\n",
    "**Explanation**\n",
    "Below are the phases of course work execution:\n",
    "1. **Business understanding** – Read & understood the business requirement document and prepared an execution plan.\n",
    "2. **Data Understanding & Exploratory data analysis (EDA)** of the dataset – Data explorations like data types, correlation, feature analysis & relevance, distribution, Null analysis, Class imbalance.\n",
    "3. **Data cleaning** – Extended the EDA with data cleaning tasks like removing features are relevant for classification, feature scaling, handling imbalance in dataset.\n",
    "4. **Modelling** – Analyse and finalise the techniques, execute the algorithms, shortlist 2 algorithms with good training results, handle overfitting, evaluate the model on train set. I used 2 classification techniques i.e. Random Forest & Multi layer perceptron algorithms. \n",
    "5. **Evaluation & best model selection** – Evaluate the model on test set & choose the final model.\n",
    "6. **Report writing** – Document the techniques, results, limitations, future score & conclusion.\n"
   ]
  },
  {
   "cell_type": "markdown",
   "metadata": {},
   "source": [
    "## 2. Understanding the case study (4 marks)<a class=\"anchor\" id=\"section2\"></a>"
   ]
  },
  {
   "cell_type": "markdown",
   "metadata": {},
   "source": [
    "###  Case study analysis\n",
    "State the key points that you found in the case and how you intend to deal with them appropriately to address the bank's needs. (You can include more than four points.) (200-300 words)\n",
    "\n",
    "**Explanation:**\n",
    "\n",
    "1. **\"Time\" feature** – The features provided are after dimension reduction, so assuming that top important features are provided, we retain all Principal components. Time feature denotes the elapsed time between the current and first transaction, which is considered in temporal-based models. As in the coursework, I have only considered classification techniques, “Time” field is not considered in the modelling. Hence, this field is dropped from the feature set. \n",
    "<br>\n",
    "\n",
    "2.\t**Imbalanced dataset** – The percentage of Class “Non fraud” is 99.82% & “fraud” is 0.17%. This is a highly imbalanced dataset. \n",
    "    - We must either upsample or downsample data to balance the classes. I have used random sampling technique where I have chosen a sub sample of train set for modelling. \n",
    "    - As the dataset is huge, for modelling, 10K random samples are used from the trainset (All fraud samples are included & 10K non fraud samples). Test set is not included in random sampling to avoid data leakage in training.\n",
    "    - Random Forest provides a hyper parameter called 'class_weight'='balanced' that selects the random samples that are class balanced.\n",
    "<br>\n",
    "\n",
    "\n",
    "3. **Overfitting** – As the dataset is imbalanced, we are using Random Forests “class weight” attribute as “balance”. Hence, the decision trees built are from balanced random sample. So, scoring “f1” is used which scores the model based on balance between recall & precision i.e. balance between False Positive & False Negative.  Cross validation technique overcomes the problem of overfitting by training the model many times with different hyperparameters & finds the model that scores more over ‘k’ folds. As our dataset is from a random sampling, a particular random sample might be good at predicting just due to chance. Cross validations, avoids such “lucky” data sampling issues by evaluating the model many times with random samples.\n",
    "<br>\n",
    "\n",
    "4. **Allowed budget for misclassification vs Importance of evaluation with respect to recall and precision** – \n",
    "    - As the dataset is highly imbalanced, for evaluating model, we should not consider “Accuracy” as the metric, rather should consider Precision/Recall as the metric. Accuracy of the model always results around 99% because most of the Non-Fraud cases are classified correctly. Precision is the proportion of positive identifications was actually correct and recall is the proportion of actual positives was identified correctly. Improving precision typically reduces recall and vice versa. Hence a balanced metric of F1 score is used for model evaluation as the dataset is imbalanced.\n",
    "    - *More importance is given to reduce FalseNegative because the cost of missing to classify an actual Fraud as Non-fraud is more than the FalsePositive.*\n",
    "\n",
    "\n"
   ]
  },
  {
   "cell_type": "markdown",
   "metadata": {},
   "source": [
    "## 3. Pre-processing applied (20 marks)<a class=\"anchor\" id=\"section3\"></a>\n",
    "Enter the code in the cells below to execute each of the stated sub-tasks. \n"
   ]
  },
  {
   "cell_type": "code",
   "execution_count": 1,
   "metadata": {},
   "outputs": [],
   "source": [
    "#Imports\n",
    "import numpy as np\n",
    "import pandas as pd \n",
    "import matplotlib.pyplot as plt\n",
    "import seaborn as sns\n",
    "\n",
    "from sklearn.model_selection import train_test_split\n",
    "\n",
    "from sklearn.preprocessing import StandardScaler, RobustScaler,MinMaxScaler\n",
    "\n",
    "from sklearn.utils import resample\n",
    "\n",
    "from sklearn import metrics\n",
    "from sklearn.metrics import roc_curve,roc_auc_score,  average_precision_score,plot_roc_curve,auc\n",
    "from sklearn.metrics import precision_recall_curve,plot_precision_recall_curve\n",
    "from sklearn.metrics import classification_report,plot_confusion_matrix, confusion_matrix, matthews_corrcoef,f1_score\n",
    "\n",
    "from sklearn.model_selection import GridSearchCV, cross_val_score, KFold,StratifiedKFold\n",
    "\n",
    "from sklearn.ensemble import RandomForestClassifier\n",
    "from sklearn.neural_network import MLPClassifier\n",
    "#from sklearn.preprocessing import normalize\n",
    "\n",
    "from joblib import dump, load\n",
    "import time"
   ]
  },
  {
   "cell_type": "markdown",
   "metadata": {},
   "source": [
    "### Basic Exploratory Data Analysis"
   ]
  },
  {
   "cell_type": "code",
   "execution_count": 167,
   "metadata": {},
   "outputs": [
    {
     "data": {
      "text/html": [
       "<div>\n",
       "<style scoped>\n",
       "    .dataframe tbody tr th:only-of-type {\n",
       "        vertical-align: middle;\n",
       "    }\n",
       "\n",
       "    .dataframe tbody tr th {\n",
       "        vertical-align: top;\n",
       "    }\n",
       "\n",
       "    .dataframe thead th {\n",
       "        text-align: right;\n",
       "    }\n",
       "</style>\n",
       "<table border=\"1\" class=\"dataframe\">\n",
       "  <thead>\n",
       "    <tr style=\"text-align: right;\">\n",
       "      <th></th>\n",
       "      <th>Time</th>\n",
       "      <th>V1</th>\n",
       "      <th>V2</th>\n",
       "      <th>V3</th>\n",
       "      <th>V4</th>\n",
       "      <th>V5</th>\n",
       "      <th>V6</th>\n",
       "      <th>V7</th>\n",
       "      <th>V8</th>\n",
       "      <th>V9</th>\n",
       "      <th>...</th>\n",
       "      <th>V21</th>\n",
       "      <th>V22</th>\n",
       "      <th>V23</th>\n",
       "      <th>V24</th>\n",
       "      <th>V25</th>\n",
       "      <th>V26</th>\n",
       "      <th>V27</th>\n",
       "      <th>V28</th>\n",
       "      <th>Amount</th>\n",
       "      <th>Class</th>\n",
       "    </tr>\n",
       "  </thead>\n",
       "  <tbody>\n",
       "    <tr>\n",
       "      <th>count</th>\n",
       "      <td>284807.000000</td>\n",
       "      <td>2.848070e+05</td>\n",
       "      <td>2.848070e+05</td>\n",
       "      <td>2.848070e+05</td>\n",
       "      <td>2.848070e+05</td>\n",
       "      <td>2.848070e+05</td>\n",
       "      <td>2.848070e+05</td>\n",
       "      <td>2.848070e+05</td>\n",
       "      <td>2.848070e+05</td>\n",
       "      <td>2.848070e+05</td>\n",
       "      <td>...</td>\n",
       "      <td>2.848070e+05</td>\n",
       "      <td>2.848070e+05</td>\n",
       "      <td>2.848070e+05</td>\n",
       "      <td>2.848070e+05</td>\n",
       "      <td>2.848070e+05</td>\n",
       "      <td>2.848070e+05</td>\n",
       "      <td>2.848070e+05</td>\n",
       "      <td>2.848070e+05</td>\n",
       "      <td>284807.000000</td>\n",
       "      <td>284807.000000</td>\n",
       "    </tr>\n",
       "    <tr>\n",
       "      <th>mean</th>\n",
       "      <td>94813.859575</td>\n",
       "      <td>1.758743e-12</td>\n",
       "      <td>-8.252298e-13</td>\n",
       "      <td>-9.636929e-13</td>\n",
       "      <td>8.316157e-13</td>\n",
       "      <td>1.591952e-13</td>\n",
       "      <td>4.247354e-13</td>\n",
       "      <td>-3.050180e-13</td>\n",
       "      <td>8.693344e-14</td>\n",
       "      <td>-1.179712e-12</td>\n",
       "      <td>...</td>\n",
       "      <td>-3.406543e-13</td>\n",
       "      <td>-5.713163e-13</td>\n",
       "      <td>-9.725303e-13</td>\n",
       "      <td>1.464139e-12</td>\n",
       "      <td>-6.989087e-13</td>\n",
       "      <td>-5.615260e-13</td>\n",
       "      <td>3.332112e-12</td>\n",
       "      <td>-3.518886e-12</td>\n",
       "      <td>88.349619</td>\n",
       "      <td>0.001727</td>\n",
       "    </tr>\n",
       "    <tr>\n",
       "      <th>std</th>\n",
       "      <td>47488.145955</td>\n",
       "      <td>1.958696e+00</td>\n",
       "      <td>1.651309e+00</td>\n",
       "      <td>1.516255e+00</td>\n",
       "      <td>1.415869e+00</td>\n",
       "      <td>1.380247e+00</td>\n",
       "      <td>1.332271e+00</td>\n",
       "      <td>1.237094e+00</td>\n",
       "      <td>1.194353e+00</td>\n",
       "      <td>1.098632e+00</td>\n",
       "      <td>...</td>\n",
       "      <td>7.345240e-01</td>\n",
       "      <td>7.257016e-01</td>\n",
       "      <td>6.244603e-01</td>\n",
       "      <td>6.056471e-01</td>\n",
       "      <td>5.212781e-01</td>\n",
       "      <td>4.822270e-01</td>\n",
       "      <td>4.036325e-01</td>\n",
       "      <td>3.300833e-01</td>\n",
       "      <td>250.120109</td>\n",
       "      <td>0.041527</td>\n",
       "    </tr>\n",
       "    <tr>\n",
       "      <th>min</th>\n",
       "      <td>0.000000</td>\n",
       "      <td>-5.640751e+01</td>\n",
       "      <td>-7.271573e+01</td>\n",
       "      <td>-4.832559e+01</td>\n",
       "      <td>-5.683171e+00</td>\n",
       "      <td>-1.137433e+02</td>\n",
       "      <td>-2.616051e+01</td>\n",
       "      <td>-4.355724e+01</td>\n",
       "      <td>-7.321672e+01</td>\n",
       "      <td>-1.343407e+01</td>\n",
       "      <td>...</td>\n",
       "      <td>-3.483038e+01</td>\n",
       "      <td>-1.093314e+01</td>\n",
       "      <td>-4.480774e+01</td>\n",
       "      <td>-2.836627e+00</td>\n",
       "      <td>-1.029540e+01</td>\n",
       "      <td>-2.604551e+00</td>\n",
       "      <td>-2.256568e+01</td>\n",
       "      <td>-1.543008e+01</td>\n",
       "      <td>0.000000</td>\n",
       "      <td>0.000000</td>\n",
       "    </tr>\n",
       "    <tr>\n",
       "      <th>25%</th>\n",
       "      <td>54201.500000</td>\n",
       "      <td>-9.203734e-01</td>\n",
       "      <td>-5.985499e-01</td>\n",
       "      <td>-8.903648e-01</td>\n",
       "      <td>-8.486401e-01</td>\n",
       "      <td>-6.915971e-01</td>\n",
       "      <td>-7.682956e-01</td>\n",
       "      <td>-5.540759e-01</td>\n",
       "      <td>-2.086297e-01</td>\n",
       "      <td>-6.430976e-01</td>\n",
       "      <td>...</td>\n",
       "      <td>-2.283949e-01</td>\n",
       "      <td>-5.423504e-01</td>\n",
       "      <td>-1.618463e-01</td>\n",
       "      <td>-3.545861e-01</td>\n",
       "      <td>-3.171451e-01</td>\n",
       "      <td>-3.269839e-01</td>\n",
       "      <td>-7.083953e-02</td>\n",
       "      <td>-5.295979e-02</td>\n",
       "      <td>5.600000</td>\n",
       "      <td>0.000000</td>\n",
       "    </tr>\n",
       "    <tr>\n",
       "      <th>50%</th>\n",
       "      <td>84692.000000</td>\n",
       "      <td>1.810880e-02</td>\n",
       "      <td>6.548556e-02</td>\n",
       "      <td>1.798463e-01</td>\n",
       "      <td>-1.984653e-02</td>\n",
       "      <td>-5.433583e-02</td>\n",
       "      <td>-2.741871e-01</td>\n",
       "      <td>4.010308e-02</td>\n",
       "      <td>2.235804e-02</td>\n",
       "      <td>-5.142873e-02</td>\n",
       "      <td>...</td>\n",
       "      <td>-2.945017e-02</td>\n",
       "      <td>6.781943e-03</td>\n",
       "      <td>-1.119293e-02</td>\n",
       "      <td>4.097606e-02</td>\n",
       "      <td>1.659350e-02</td>\n",
       "      <td>-5.213911e-02</td>\n",
       "      <td>1.342146e-03</td>\n",
       "      <td>1.124383e-02</td>\n",
       "      <td>22.000000</td>\n",
       "      <td>0.000000</td>\n",
       "    </tr>\n",
       "    <tr>\n",
       "      <th>75%</th>\n",
       "      <td>139320.500000</td>\n",
       "      <td>1.315642e+00</td>\n",
       "      <td>8.037239e-01</td>\n",
       "      <td>1.027196e+00</td>\n",
       "      <td>7.433413e-01</td>\n",
       "      <td>6.119264e-01</td>\n",
       "      <td>3.985649e-01</td>\n",
       "      <td>5.704361e-01</td>\n",
       "      <td>3.273459e-01</td>\n",
       "      <td>5.971390e-01</td>\n",
       "      <td>...</td>\n",
       "      <td>1.863772e-01</td>\n",
       "      <td>5.285536e-01</td>\n",
       "      <td>1.476421e-01</td>\n",
       "      <td>4.395266e-01</td>\n",
       "      <td>3.507156e-01</td>\n",
       "      <td>2.409522e-01</td>\n",
       "      <td>9.104512e-02</td>\n",
       "      <td>7.827995e-02</td>\n",
       "      <td>77.165000</td>\n",
       "      <td>0.000000</td>\n",
       "    </tr>\n",
       "    <tr>\n",
       "      <th>max</th>\n",
       "      <td>172792.000000</td>\n",
       "      <td>2.454930e+00</td>\n",
       "      <td>2.205773e+01</td>\n",
       "      <td>9.382558e+00</td>\n",
       "      <td>1.687534e+01</td>\n",
       "      <td>3.480167e+01</td>\n",
       "      <td>7.330163e+01</td>\n",
       "      <td>1.205895e+02</td>\n",
       "      <td>2.000721e+01</td>\n",
       "      <td>1.559499e+01</td>\n",
       "      <td>...</td>\n",
       "      <td>2.720284e+01</td>\n",
       "      <td>1.050309e+01</td>\n",
       "      <td>2.252841e+01</td>\n",
       "      <td>4.584549e+00</td>\n",
       "      <td>7.519589e+00</td>\n",
       "      <td>3.517346e+00</td>\n",
       "      <td>3.161220e+01</td>\n",
       "      <td>3.384781e+01</td>\n",
       "      <td>25691.160000</td>\n",
       "      <td>1.000000</td>\n",
       "    </tr>\n",
       "  </tbody>\n",
       "</table>\n",
       "<p>8 rows × 31 columns</p>\n",
       "</div>"
      ],
      "text/plain": [
       "                Time            V1            V2            V3            V4  \\\n",
       "count  284807.000000  2.848070e+05  2.848070e+05  2.848070e+05  2.848070e+05   \n",
       "mean    94813.859575  1.758743e-12 -8.252298e-13 -9.636929e-13  8.316157e-13   \n",
       "std     47488.145955  1.958696e+00  1.651309e+00  1.516255e+00  1.415869e+00   \n",
       "min         0.000000 -5.640751e+01 -7.271573e+01 -4.832559e+01 -5.683171e+00   \n",
       "25%     54201.500000 -9.203734e-01 -5.985499e-01 -8.903648e-01 -8.486401e-01   \n",
       "50%     84692.000000  1.810880e-02  6.548556e-02  1.798463e-01 -1.984653e-02   \n",
       "75%    139320.500000  1.315642e+00  8.037239e-01  1.027196e+00  7.433413e-01   \n",
       "max    172792.000000  2.454930e+00  2.205773e+01  9.382558e+00  1.687534e+01   \n",
       "\n",
       "                 V5            V6            V7            V8            V9  \\\n",
       "count  2.848070e+05  2.848070e+05  2.848070e+05  2.848070e+05  2.848070e+05   \n",
       "mean   1.591952e-13  4.247354e-13 -3.050180e-13  8.693344e-14 -1.179712e-12   \n",
       "std    1.380247e+00  1.332271e+00  1.237094e+00  1.194353e+00  1.098632e+00   \n",
       "min   -1.137433e+02 -2.616051e+01 -4.355724e+01 -7.321672e+01 -1.343407e+01   \n",
       "25%   -6.915971e-01 -7.682956e-01 -5.540759e-01 -2.086297e-01 -6.430976e-01   \n",
       "50%   -5.433583e-02 -2.741871e-01  4.010308e-02  2.235804e-02 -5.142873e-02   \n",
       "75%    6.119264e-01  3.985649e-01  5.704361e-01  3.273459e-01  5.971390e-01   \n",
       "max    3.480167e+01  7.330163e+01  1.205895e+02  2.000721e+01  1.559499e+01   \n",
       "\n",
       "       ...           V21           V22           V23           V24  \\\n",
       "count  ...  2.848070e+05  2.848070e+05  2.848070e+05  2.848070e+05   \n",
       "mean   ... -3.406543e-13 -5.713163e-13 -9.725303e-13  1.464139e-12   \n",
       "std    ...  7.345240e-01  7.257016e-01  6.244603e-01  6.056471e-01   \n",
       "min    ... -3.483038e+01 -1.093314e+01 -4.480774e+01 -2.836627e+00   \n",
       "25%    ... -2.283949e-01 -5.423504e-01 -1.618463e-01 -3.545861e-01   \n",
       "50%    ... -2.945017e-02  6.781943e-03 -1.119293e-02  4.097606e-02   \n",
       "75%    ...  1.863772e-01  5.285536e-01  1.476421e-01  4.395266e-01   \n",
       "max    ...  2.720284e+01  1.050309e+01  2.252841e+01  4.584549e+00   \n",
       "\n",
       "                V25           V26           V27           V28         Amount  \\\n",
       "count  2.848070e+05  2.848070e+05  2.848070e+05  2.848070e+05  284807.000000   \n",
       "mean  -6.989087e-13 -5.615260e-13  3.332112e-12 -3.518886e-12      88.349619   \n",
       "std    5.212781e-01  4.822270e-01  4.036325e-01  3.300833e-01     250.120109   \n",
       "min   -1.029540e+01 -2.604551e+00 -2.256568e+01 -1.543008e+01       0.000000   \n",
       "25%   -3.171451e-01 -3.269839e-01 -7.083953e-02 -5.295979e-02       5.600000   \n",
       "50%    1.659350e-02 -5.213911e-02  1.342146e-03  1.124383e-02      22.000000   \n",
       "75%    3.507156e-01  2.409522e-01  9.104512e-02  7.827995e-02      77.165000   \n",
       "max    7.519589e+00  3.517346e+00  3.161220e+01  3.384781e+01   25691.160000   \n",
       "\n",
       "               Class  \n",
       "count  284807.000000  \n",
       "mean        0.001727  \n",
       "std         0.041527  \n",
       "min         0.000000  \n",
       "25%         0.000000  \n",
       "50%         0.000000  \n",
       "75%         0.000000  \n",
       "max         1.000000  \n",
       "\n",
       "[8 rows x 31 columns]"
      ]
     },
     "execution_count": 167,
     "metadata": {},
     "output_type": "execute_result"
    }
   ],
   "source": [
    "df.describe()"
   ]
  },
  {
   "cell_type": "code",
   "execution_count": 168,
   "metadata": {},
   "outputs": [
    {
     "name": "stdout",
     "output_type": "stream",
     "text": [
      "<class 'pandas.core.frame.DataFrame'>\n",
      "RangeIndex: 284807 entries, 0 to 284806\n",
      "Data columns (total 31 columns):\n",
      " #   Column  Non-Null Count   Dtype  \n",
      "---  ------  --------------   -----  \n",
      " 0   Time    284807 non-null  float64\n",
      " 1   V1      284807 non-null  float64\n",
      " 2   V2      284807 non-null  float64\n",
      " 3   V3      284807 non-null  float64\n",
      " 4   V4      284807 non-null  float64\n",
      " 5   V5      284807 non-null  float64\n",
      " 6   V6      284807 non-null  float64\n",
      " 7   V7      284807 non-null  float64\n",
      " 8   V8      284807 non-null  float64\n",
      " 9   V9      284807 non-null  float64\n",
      " 10  V10     284807 non-null  float64\n",
      " 11  V11     284807 non-null  float64\n",
      " 12  V12     284807 non-null  float64\n",
      " 13  V13     284807 non-null  float64\n",
      " 14  V14     284807 non-null  float64\n",
      " 15  V15     284807 non-null  float64\n",
      " 16  V16     284807 non-null  float64\n",
      " 17  V17     284807 non-null  float64\n",
      " 18  V18     284807 non-null  float64\n",
      " 19  V19     284807 non-null  float64\n",
      " 20  V20     284807 non-null  float64\n",
      " 21  V21     284807 non-null  float64\n",
      " 22  V22     284807 non-null  float64\n",
      " 23  V23     284807 non-null  float64\n",
      " 24  V24     284807 non-null  float64\n",
      " 25  V25     284807 non-null  float64\n",
      " 26  V26     284807 non-null  float64\n",
      " 27  V27     284807 non-null  float64\n",
      " 28  V28     284807 non-null  float64\n",
      " 29  Amount  284807 non-null  float64\n",
      " 30  Class   284807 non-null  int64  \n",
      "dtypes: float64(30), int64(1)\n",
      "memory usage: 67.4 MB\n"
     ]
    }
   ],
   "source": [
    "df.info()"
   ]
  },
  {
   "cell_type": "code",
   "execution_count": null,
   "metadata": {},
   "outputs": [],
   "source": []
  },
  {
   "cell_type": "markdown",
   "metadata": {},
   "source": [
    "###  a) Preparing the labels appropriately<a class=\"anchor\" id=\"section3.a\"></a>"
   ]
  },
  {
   "cell_type": "markdown",
   "metadata": {},
   "source": [
    "Import dataset & split the dataset into Train & Test set."
   ]
  },
  {
   "cell_type": "code",
   "execution_count": 2,
   "metadata": {},
   "outputs": [
    {
     "data": {
      "text/plain": [
       "(pandas.core.frame.DataFrame,\n",
       " pandas.core.series.Series,\n",
       " (213605,),\n",
       " (284807,),\n",
       " pandas.core.series.Series)"
      ]
     },
     "execution_count": 2,
     "metadata": {},
     "output_type": "execute_result"
    }
   ],
   "source": [
    "df = pd.read_csv(\"credit.csv\")\n",
    "X = df.drop('Class', axis=1)\n",
    "y = df['Class']\n",
    "X_train, X_test, y_train, y_test = train_test_split(X, y, train_size=0.75, random_state=444)\n",
    "#type(X_train),type(y_train), y_train.shape, y .shape, type(y)"
   ]
  },
  {
   "cell_type": "markdown",
   "metadata": {},
   "source": [
    "###  b) Removing synonymous and noisy attributes<a class=\"anchor\" id=\"section3.b\"></a>\n"
   ]
  },
  {
   "cell_type": "markdown",
   "metadata": {},
   "source": [
    "**Remove synonymous attributes**   \n",
    "- Features V1 to V29 are PCA’s principal components. Hence, in order not to lose any variance explained by Principal components, we do not remove any attributes. Also, we do not know the actual features, so without the domain information, we rather not drop any features & hence retain all Principal components.\n",
    "- Code to find any correlation among the features by plotting correlation plot. There are no synonymous attributes in the dataset. So, no attribute to drop."
   ]
  },
  {
   "cell_type": "code",
   "execution_count": 3,
   "metadata": {},
   "outputs": [
    {
     "data": {
      "image/png": "[encoded data removed]",
      "text/plain": [
       "<Figure size 576x576 with 1 Axes>"
      ]
     },
     "metadata": {
      "needs_background": "light"
     },
     "output_type": "display_data"
    }
   ],
   "source": [
    "corr = df.corr() \n",
    "\n",
    "# Plot heatmap of correlation\n",
    "f = plt.figure(figsize=(8, 8))\n",
    "plt.matshow(df.corr(),fignum=f.number)\n",
    "plt.show()"
   ]
  },
  {
   "cell_type": "markdown",
   "metadata": {},
   "source": [
    "**Drop noisy attribute**  \n",
    "\n",
    "There are no noisy attribute. But, due to below reasons, \"Time\" feature has been dropped.\n",
    "\n",
    " - The \"time\" feature is evenly distributed over a 24 hour day, so it does not contribute in classifying fraud or non-fraud.  The distribution of time and amount in the draset can be visualized as below.\n",
    "\n",
    " - However, the feature time is not in absolute unit, it is in relative unit i.e., time elapsed between 2 transactions. The relative time unit does not give any quantitative information for modelling. This feature is mainly important for time series analyses if we had considered temporal modelling technique. As I have not considered temporal technique in the coursework, the “Time” feature is dropped from our modelling technique which is “Classification”"
   ]
  },
  {
   "cell_type": "code",
   "execution_count": 4,
   "metadata": {},
   "outputs": [
    {
     "name": "stderr",
     "output_type": "stream",
     "text": [
      "C:\\Users\\shilp\\anaconda3\\lib\\site-packages\\seaborn\\distributions.py:2557: FutureWarning: `distplot` is a deprecated function and will be removed in a future version. Please adapt your code to use either `displot` (a figure-level function with similar flexibility) or `histplot` (an axes-level function for histograms).\n",
      "  warnings.warn(msg, FutureWarning)\n",
      "C:\\Users\\shilp\\anaconda3\\lib\\site-packages\\seaborn\\distributions.py:2557: FutureWarning: `distplot` is a deprecated function and will be removed in a future version. Please adapt your code to use either `displot` (a figure-level function with similar flexibility) or `histplot` (an axes-level function for histograms).\n",
      "  warnings.warn(msg, FutureWarning)\n"
     ]
    },
    {
     "data": {
      "image/png": "[encoded data removed]",
      "text/plain": [
       "<Figure size 1296x288 with 2 Axes>"
      ]
     },
     "metadata": {
      "needs_background": "light"
     },
     "output_type": "display_data"
    }
   ],
   "source": [
    "#Plot the distribution of time and amount\n",
    "\n",
    "fig, ax = plt.subplots(1, 2, figsize=(18,4))\n",
    "\n",
    "# Plot the distribution of 'Time' feature \n",
    "sns.distplot(df['Time'].values/(60*60), ax=ax[0], color='r')\n",
    "ax[0].set_title('Distribution of Transaction Time', fontsize=14)\n",
    "ax[0].set_xlim([min(df['Time'].values/(60*60)), max(df['Time'].values/(60*60))])\n",
    "\n",
    "sns.distplot(df['Amount'].values, ax=ax[1], color='b')\n",
    "ax[1].set_title('Distribution of Transaction Amount', fontsize=14)\n",
    "ax[1].set_xlim([min(df['Amount'].values), max(df['Amount'].values)])\n",
    "\n",
    "plt.show()"
   ]
  },
  {
   "cell_type": "markdown",
   "metadata": {},
   "source": [
    "**Drop the attribute \"Time\"**"
   ]
  },
  {
   "cell_type": "code",
   "execution_count": 5,
   "metadata": {},
   "outputs": [],
   "source": [
    "X = X.drop(['Time'],axis = 1,inplace=False)\n",
    "X_train = X_train.drop(['Time'],axis = 1,inplace=False)\n",
    "X_test = X_test.drop(['Time'],axis = 1,inplace=False)"
   ]
  },
  {
   "cell_type": "markdown",
   "metadata": {},
   "source": [
    "###  c) Dealing with missing values<a class=\"anchor\" id=\"section3.c\"></a>\n"
   ]
  },
  {
   "cell_type": "markdown",
   "metadata": {},
   "source": [
    "- No missing valuess in the dataset as the dataset is already Principal Component Analysis (PCA) converted. \n",
    "- As the bank data is confidential, applying PCA masks the original data, and the provided PCA components explain the maximum variance in the original dataset. Missing values are handled before converting the dataset to PCA components.\n",
    "- The dataset we have now is already pre-processed and does not have any missing values. This can be verified through below code."
   ]
  },
  {
   "cell_type": "code",
   "execution_count": 6,
   "metadata": {},
   "outputs": [
    {
     "data": {
      "text/plain": [
       "False"
      ]
     },
     "execution_count": 6,
     "metadata": {},
     "output_type": "execute_result"
    }
   ],
   "source": [
    "df.isnull().values.any()"
   ]
  },
  {
   "cell_type": "markdown",
   "metadata": {},
   "source": [
    "Check for duplicate rows, No duplicates found."
   ]
  },
  {
   "cell_type": "code",
   "execution_count": 173,
   "metadata": {},
   "outputs": [
    {
     "data": {
      "text/plain": [
       "0"
      ]
     },
     "execution_count": 173,
     "metadata": {},
     "output_type": "execute_result"
    }
   ],
   "source": [
    "list_duplicate_rows = []\n",
    "for i, ref in enumerate(df.columns[:-1]):\n",
    "    for other in df.columns[i + 1:-1]:\n",
    "        if other not in list_duplicate_rows and np.all(df[ref] == df[other]):\n",
    "            list_duplicate_rows.append(other)    \n",
    "len(list_duplicate_rows)"
   ]
  },
  {
   "cell_type": "markdown",
   "metadata": {},
   "source": [
    "###  d) Rescaling if necessary<a class=\"anchor\" id=\"section3.d\"></a>\n"
   ]
  },
  {
   "cell_type": "markdown",
   "metadata": {},
   "source": [
    "- The first technique that I have selected in **Random Forest** algorithm which is a tree-based model and hence does not require feature scaling. The train data is partitioned into branches based on the hyperparameter configuration. Even if the normalization is applied, the decision tree would still produce the same result.    \n",
    "<br>\n",
    "\n",
    "- 2nd technique that I have used for classification is **Multilayer Perceptron** i.e. MLPClassifier. This is a neural network inspired technique that works on minimizing the loss function though gradient based optimization technique. This technique needs the features to be scaled (for faster convergence) and hence I have used MinMaxScalar for Multilayer perceptron algorithm.    \n",
    "<br>\n",
    "\n",
    "- As the data scaling does not influence the Random Forest model & results, to maintain single dataframe for both techniques, I am using scaled data even for both the techniques.  \n"
   ]
  },
  {
   "cell_type": "markdown",
   "metadata": {},
   "source": [
    "Below code is to retain an original copy of the dataframe which is used for calculation of cost incured based of FalsePositive & FalseNegative results. This is required for final model evaluation on test set."
   ]
  },
  {
   "cell_type": "code",
   "execution_count": 7,
   "metadata": {},
   "outputs": [],
   "source": [
    "df_original_xtest = X_test.copy(deep=True)\n",
    "df_original_ytest = y_test.copy(deep=True)\n",
    "df_original_xtrain = X_train.copy(deep=True)\n",
    "df_original_ytrain = y_train.copy(deep=True)"
   ]
  },
  {
   "cell_type": "markdown",
   "metadata": {},
   "source": [
    "Apply Min max scaling - First fit the train set only & then transform the test set with the scalar object."
   ]
  },
  {
   "cell_type": "code",
   "execution_count": 8,
   "metadata": {},
   "outputs": [],
   "source": [
    "scaler = MinMaxScaler()\n",
    "\n",
    "scaler=scaler.fit(X_train[['V1' ,'V2', 'V3' ,'V4' ,'V5', 'V6' ,'V7', 'V8' ,'V9', 'V10' ,'V11' ,'V12', 'V13', 'V14' ,'V15', 'V16' ,'V17' ,'V18' ,'V19' ,'V20' ,'V21' ,'V22', 'V23' ,'V24', 'V25'\n",
    ", 'V26', 'V27' ,'V28', 'Amount']]) \n",
    "\n",
    "X_train[['V1' ,'V2', 'V3' ,'V4' ,'V5', 'V6' ,'V7', 'V8' ,'V9', 'V10' ,'V11' ,'V12', 'V13', 'V14' ,'V15', 'V16' ,'V17' ,'V18' ,'V19' ,'V20' ,'V21' ,'V22', 'V23' ,'V24', 'V25'\n",
    ", 'V26', 'V27' ,'V28', 'Amount']] = scaler.transform(X_train[['V1' ,'V2', 'V3' ,'V4' ,'V5', 'V6' ,'V7', 'V8' ,'V9', 'V10' ,'V11' ,'V12', 'V13', 'V14' ,'V15', 'V16' ,'V17' ,'V18' ,'V19' ,'V20' ,'V21' ,'V22', 'V23' ,'V24', 'V25'\n",
    ", 'V26', 'V27' ,'V28', 'Amount']])\n",
    "\n",
    "X_test[['V1' ,'V2', 'V3' ,'V4' ,'V5', 'V6' ,'V7', 'V8' ,'V9', 'V10' ,'V11' ,'V12', 'V13', 'V14' ,'V15', 'V16' ,'V17' ,'V18' ,'V19' ,'V20' ,'V21' ,'V22', 'V23' ,'V24', 'V25'\n",
    ", 'V26', 'V27' ,'V28', 'Amount']]  = scaler.transform(X_test[['V1' ,'V2', 'V3' ,'V4' ,'V5', 'V6' ,'V7', 'V8' ,'V9', 'V10' ,'V11' ,'V12', 'V13', 'V14' ,'V15', 'V16' ,'V17' ,'V18' ,'V19' ,'V20' ,'V21' ,'V22', 'V23' ,'V24', 'V25'\n",
    ", 'V26', 'V27' ,'V28', 'Amount']])"
   ]
  },
  {
   "cell_type": "code",
   "execution_count": null,
   "metadata": {},
   "outputs": [],
   "source": []
  },
  {
   "cell_type": "markdown",
   "metadata": {},
   "source": [
    "### e) Other<a class=\"anchor\" id=\"section3.e\"></a>"
   ]
  },
  {
   "cell_type": "markdown",
   "metadata": {},
   "source": [
    "1. EDA1 - EDA on Class imbalance"
   ]
  },
  {
   "cell_type": "code",
   "execution_count": 64,
   "metadata": {},
   "outputs": [
    {
     "name": "stdout",
     "output_type": "stream",
     "text": [
      "Non Fraud Count -  284315\n",
      "Fraud Count -  492\n",
      "----------------------------------------\n",
      "Ratio of Non Fraud and Fraud\n",
      "----------------------------------------\n",
      "0    0.998273\n",
      "1    0.001727\n",
      "Name: Class, dtype: float64\n"
     ]
    },
    {
     "data": {
      "text/plain": [
       "<AxesSubplot:title={'center':'Class vs Count'}, xlabel='Class', ylabel='Count'>"
      ]
     },
     "execution_count": 64,
     "metadata": {},
     "output_type": "execute_result"
    },
    {
     "data": {
      "image/png": "[encoded data removed]",
      "text/plain": [
       "<Figure size 432x288 with 1 Axes>"
      ]
     },
     "metadata": {
      "needs_background": "light"
     },
     "output_type": "display_data"
    }
   ],
   "source": [
    "#Visulaize Fraud to Non Fraud Ratio\n",
    "\n",
    "df_nonfraud = df[df.Class == 0] \n",
    "df_fraud = df[df.Class == 1] \n",
    "print(\"Non Fraud Count - \",len(df_nonfraud))\n",
    "print(\"Fraud Count - \",len(df_fraud))\n",
    "print(\"-\"*40)\n",
    "# Count the occurrences of fraud and non fraud cases\n",
    "fnf = df[\"Class\"].value_counts()\n",
    "print(\"Ratio of Non Fraud and Fraud\")\n",
    "print(\"-\"*40)\n",
    "print(fnf/len(df))\n",
    "\n",
    "# Plottingg your data\n",
    "plt.xlabel(\"Class\")\n",
    "plt.ylabel(\"Count\")\n",
    "fnf.plot(kind = 'bar',title = 'Class vs Count',rot=0)"
   ]
  },
  {
   "cell_type": "markdown",
   "metadata": {},
   "source": [
    "2. EDA2 - Visualize how first 2 Principal components are scattered"
   ]
  },
  {
   "cell_type": "code",
   "execution_count": 9,
   "metadata": {},
   "outputs": [
    {
     "data": {
      "image/png": "[encoded data removed]",
      "text/plain": [
       "<Figure size 432x288 with 1 Axes>"
      ]
     },
     "metadata": {
      "needs_background": "light"
     },
     "output_type": "display_data"
    }
   ],
   "source": [
    "# Plot how fraud and non-fraud cases are scattered over first 2 principal components - V1 & V2\n",
    "plt.scatter(df.loc[df['Class'] == 0]['V1'], df.loc[df['Class'] == 0]['V2'], label=\"Class #0\", alpha=0.5, linewidth=0.15)\n",
    "plt.scatter(df.loc[df['Class'] == 1]['V1'], df.loc[df['Class'] == 1]['V2'], label=\"Class #1\", alpha=0.5, linewidth=0.15,c='r')\n",
    "plt.legend()\n",
    "plt.show()"
   ]
  },
  {
   "cell_type": "markdown",
   "metadata": {},
   "source": [
    "### **Data pre-processing**\n",
    "\n",
    "**Handle Class imbalance:**\n",
    "\n",
    "- As the dataset is large, I did not choose to up-sample the minority class in the train data. The down-sampling majority class did not provide satisfactory results on test set. Hence, I used a different technique where I choose random subsample from the train set of size 20K of all Non frauds & I included all the Fraud records in the train set to the subsample set. Hence, the subsample that I use for model training has 20K (Non fraud class) + 371 (Fraud class) = 20371 records. \n",
    "<br>\n",
    "\n",
    "- I have used Random Forest & Multi-layer perceptron. \n",
    "<br>\n",
    "\n",
    "- Random Forest algorithm in Scikit-learn provides a hyper parameter called “Class weight” that takes either a proportion of class weights for each class, or a keyword parameter called “balanced” or “balance-subsample”. Along with the random subsampling, I also choose the “Class weight” as “balance-subsample” which makes sure that each tree is built considering equal samples of the Fraud & Non-Fraud classes. This technique also makes the nested cross validation process quicker than considering the up-sampled data. \n",
    "<br>\n",
    "\n",
    "- I compared subsampled Class weight technique with SMOTE up-sampling approach & found that both the technique provides similar requests on evaluation on Train & test set. Hence, I choose subsampled Class weight technique for Random Forest & subsample technique for Multi-layer perceptron.\n"
   ]
  },
  {
   "cell_type": "code",
   "execution_count": 10,
   "metadata": {},
   "outputs": [],
   "source": [
    "#Set df2 equal to all of the Fraud and 20,000 Non-Fraud transactions from the train set.\n",
    "\n",
    "df1 = pd.concat([X_train, y_train], axis=1)\n",
    "df2 = df1[df1.Class == 1]\n",
    "df2 = pd.concat([df2, df1[df1.Class == 0].sample(n = 20000)], axis = 0)\n",
    "\n",
    "# Below are the subsampled dataframes that will be used for model training\n",
    "\n",
    "X_subsample_train = df2.drop('Class', axis=1)\n",
    "y_subsample_train = df2['Class']"
   ]
  },
  {
   "cell_type": "code",
   "execution_count": 11,
   "metadata": {},
   "outputs": [
    {
     "data": {
      "text/plain": [
       "((20371, 30), 20000, 371)"
      ]
     },
     "execution_count": 11,
     "metadata": {},
     "output_type": "execute_result"
    }
   ],
   "source": [
    "# Check the class proportions\n",
    "\n",
    "fraud = df2[df2['Class'] == 0]\n",
    "non_fraud = df2[df2['Class'] == 1]\n",
    "df2.shape,len(fraud),len(non_fraud)"
   ]
  },
  {
   "cell_type": "code",
   "execution_count": null,
   "metadata": {},
   "outputs": [],
   "source": []
  },
  {
   "cell_type": "markdown",
   "metadata": {},
   "source": [
    "### **Utility function used to print model evaluation results:**"
   ]
  },
  {
   "cell_type": "code",
   "execution_count": 326,
   "metadata": {},
   "outputs": [],
   "source": [
    "# Function to print model score, Classification Report & confusion matrix \n",
    "def print_model_metrics(mdl, X, y, title):\n",
    "    p=mdl.predict(X)\n",
    "    target_names = ['Non-Fraud', 'Fraud']\n",
    "    print(\"Model score accuracy--\", mdl.score(X, y))\n",
    "    print(\"Balanced accuracy--\",metrics.balanced_accuracy_score(y,p))\n",
    "    print(\"Precision--\",metrics.precision_score(y,p))\n",
    "    print(\"roc_auc_score--\",roc_auc_score(y, p))\n",
    "    print(\"Recall_score--\",metrics.recall_score(y, p))\n",
    "    print(\"f1-\",f1_score(y, p))    \n",
    "    print(classification_report(y,p,target_names=target_names))\n",
    "    print(confusion_matrix(y,p))\n",
    "    disp = plot_confusion_matrix(mdl, X, y,display_labels=target_names)\n",
    "    disp.ax_.set_title(title)\n",
    "\n",
    "# Function to plot ROC curve & Precision-Recall curve\n",
    "def print_model_curve(mdl, X, y, mdlname):\n",
    "    print(\"Plot for \",mdlname)\n",
    "    #plot_roc_curve(mdl, X, y)\n",
    "    p=mdl.predict(X)\n",
    "    fpr, tpr, _ = roc_curve(y, p)\n",
    "    roc_auc = auc(fpr, tpr)\n",
    "    plt.plot(fpr, tpr, label='ROC AUC = ' + str(round(roc_auc, 2)))\n",
    "    plt.legend(loc='lower right')\n",
    "    plt.ylabel('True Positive Rate')\n",
    "    plt.xlabel('False Positive Rate')\n",
    "    plt.plot([0, 1], [0, 1],linestyle='--')\n",
    "    disp = plot_precision_recall_curve(mdl, X, y)\n",
    "    \n",
    "# Function to plot only Confusion Matrix    \n",
    "def print_cm(mdl, X, y):\n",
    "    p=mdl.predict(X)\n",
    "    print(confusion_matrix(y,p))\n",
    "    \n",
    "# Function to plot ROC Curve for 2 models in same plot for comparision  \n",
    "def multiple_rocauc_curve(mdl_rf, mdl_mlp, X, y): \n",
    "    p1=mdl_rf.predict(X)\n",
    "    p2=mdl_mlp.predict(X)\n",
    "    fpr1, tpr1, _ = roc_curve(y, p1)\n",
    "    fpr2, tpr2, _ = roc_curve(y, p2)\n",
    "    roc_auc1 = auc(fpr1, tpr1)\n",
    "    roc_auc2 = auc(fpr2, tpr2)\n",
    "    plt.plot(fpr1, tpr1, label='RF auc = ' + str(round(roc_auc1, 2)))\n",
    "    plt.plot(fpr2, tpr2, label='MLP auc = ' + str(round(roc_auc2, 2)))\n",
    "    plt.legend(loc='lower right')\n",
    "    plt.ylabel('True Positive Rate')\n",
    "    plt.xlabel('False Positive Rate')\n",
    "    plt.plot([0, 1], [0, 1],linestyle='--')\n",
    "    \n",
    "# Function to plot PR Curve for 2 models in same plot for comparision     \n",
    "def multiple_pr_curve(mdl_rf, mdl_mlp, X, y): \n",
    "    plot_precision_recall_curve(rf_mdl_final1, X_test.values,y_test, ax = plt.gca(),name = \"RF\")\n",
    "    plot_precision_recall_curve(mlp_mdl_final1, X_test.values,y_test, ax = plt.gca(),name = \"MLP\")\n",
    "    \n",
    "# Function to plot ROC Curve for 2 models in same plot for comparision - Train sets \n",
    "def multiple_rocauc_curve_subsample_train(mdl, X_subsample_train, y_subsample_train, X_train, y_train, mdlname): \n",
    "    p1=mdl.predict(X_subsample_train)\n",
    "    p2=mdl.predict(X_train)\n",
    "    fpr1, tpr1, _ = roc_curve(y_subsample_train, p1)\n",
    "    fpr2, tpr2, _ = roc_curve(y_train, p2)\n",
    "    roc_auc1 = auc(fpr1, tpr1)\n",
    "    roc_auc2 = auc(fpr2, tpr2)\n",
    "    plt.plot(fpr1, tpr1, label=mdlname+' Subsample Train auc = ' + str(round(roc_auc1, 2)))\n",
    "    plt.plot(fpr2, tpr2, label=mdlname+' Full Train auc = ' + str(round(roc_auc2, 2)))\n",
    "    plt.legend(loc='lower right')\n",
    "    plt.ylabel('True Positive Rate')\n",
    "    plt.xlabel('False Positive Rate')\n",
    "    plt.plot([0, 1], [0, 1],linestyle='--')\n",
    "    \n",
    "# Function to plot PR Curve for 2 models in same plot for comparision   - Train sets    \n",
    "def multiple_pr_curve_subsample_train(mdl, X_subsample_train, y_subsample_train, X_train, y_train, mdlname): \n",
    "    plot_precision_recall_curve(mdl, X_subsample_train.values,y_subsample_train, ax = plt.gca(),name =mdlname+ \" Subsample Train\")\n",
    "    plot_precision_recall_curve(mdl, X_train.values,y_train, ax = plt.gca(),name = mdlname+ \" Full Train\")\n",
    "    \n",
    "# Function to plot bar plot for comparision of 2 model scores\n",
    "def compare_metrics(mdl_rf, mdl_mlp, X, y): \n",
    "    p1=mdl_rf.predict(X)\n",
    "    p2=mdl_mlp.predict(X)\n",
    "\n",
    "    rf_acc=metrics.balanced_accuracy_score(y,p1);rf_acc=float(\"{:.2f}\".format(rf_acc))\n",
    "    rf_pre=metrics.precision_score(y,p1);rf_pre=float(\"{:.2f}\".format(rf_pre))\n",
    "    rf_recall=metrics.recall_score(y, p1);rf_recall=float(\"{:.2f}\".format(rf_recall))\n",
    "    rf_f1=f1_score(y, p1);rf_f1=float(\"{:.2f}\".format(rf_f1))\n",
    "    rf_auc = roc_auc_score(y, p1);rf_auc=float(\"{:.2f}\".format(rf_auc))\n",
    "    #val=plot_precision_recall_curve(rf_mdl_final1,X_test, y_test, ax = plt.gca(),name =\"Test\")\n",
    "    #rf_pr = val.average_precision\n",
    "    rf_pr = 0.87\n",
    "    \n",
    "    mlp_acc=metrics.balanced_accuracy_score(y,p2);mlp_acc=float(\"{:.2f}\".format(mlp_acc))\n",
    "    mlp_pre=metrics.precision_score(y,p2);mlp_pre=float(\"{:.2f}\".format(mlp_pre))\n",
    "    mlp_recall=metrics.recall_score(y, p2);mlp_recall=float(\"{:.2f}\".format(mlp_recall))\n",
    "    mlp_f1=f1_score(y, p2);mlp_f1=float(\"{:.2f}\".format(mlp_f1))\n",
    "    mlp_auc = roc_auc_score(y, p2);mlp_auc=float(\"{:.2f}\".format(mlp_auc))\n",
    "    mlp_pr = metrics.average_precision_score(y,p2);mlp_pr=float(\"{:.2f}\".format(mlp_pr)) #0.78\n",
    "    #val=plot_precision_recall_curve(mdl_mlp, X.values,y, ax = plt.gca(),name =\"Test\")\n",
    "    mlp_pr = 0.78 #val.average_precision\n",
    "    \n",
    "    lst_rf_metrics = [rf_f1,rf_recall,rf_pre,rf_auc,rf_pr,rf_acc]\n",
    "    lst_mlp_metrics = [mlp_f1,mlp_recall,mlp_pre,mlp_auc,mlp_pr,mlp_acc]\n",
    "  \n",
    "    index = ['f1-score','Recall','Precision','AUC' ,'PR' ,'Balanced Accuracy']\n",
    "    df_compare = pd.DataFrame({'Random_Forest': lst_rf_metrics, 'MLP': lst_mlp_metrics}, index=index)\n",
    "    ax = df_compare.plot.bar(rot=4,color={\"Random_Forest\": \"lightgreen\", \"MLP\": \"lightblue\",},figsize=(8,5),xlabel=\"Metrics\",ylabel=\"Score\")\n",
    "    ax.legend(bbox_to_anchor=(1.0, 1.0))\n",
    "    ax.grid(False)\n",
    "    ax.spines['top'].set_visible(False)\n",
    "    ax.spines['right'].set_visible(False)\n",
    "    for p in ax.patches:\n",
    "        ax.annotate(str(p.get_height()), (p.get_x() * 1.005, p.get_height() * 1.045), fontsize=9)"
   ]
  },
  {
   "cell_type": "code",
   "execution_count": null,
   "metadata": {},
   "outputs": [],
   "source": []
  },
  {
   "cell_type": "markdown",
   "metadata": {},
   "source": [
    "## 4. Technique 1 (20 marks)<a class=\"anchor\" id=\"section4\"></a>"
   ]
  },
  {
   "attachments": {},
   "cell_type": "markdown",
   "metadata": {},
   "source": [
    "### a) Discuss your motivation for choosing the technique and provide a schematic figure of the process<a class=\"anchor\" id=\"section4.a\"></a>\n",
    "\n",
    "100-200 words\n",
    "\n",
    "**Explanation**\n",
    "<br>\n",
    "\n",
    "**Chosen technique:** \n",
    "- Sklearn’s Random Forest Classifier \n",
    "<br>\n",
    "\n",
    "**Motivation for choosing Random Forest Classifier:**\n",
    "- I tried couple of classification algorithms like Random Forest, Logistic regression, SVM, KNN, Clustering algorithm like K-means & Isolation Forest. Of all the algorithm, the ensemble method which is Random Forest that employs bagging mechanism performed comparatively better than the others. \n",
    "- Random forest belongs to a category of ensemble methods & is works differently than other classification algorithms. It combines the predictions of several base estimators built with a given learning algorithm to improve generalizability and robustness over a single estimator.\n",
    "- Random Forest is an averaging ensemble method where multiple decision trees are built independently, and their predictions are averaged. The sampling technique is called boosting. The combined estimator performs usually better than any of the single base estimator because its variance is reduced.\n",
    "<br>\n",
    "\n",
    "**Working:**\n",
    "- Random forest builds multiple decision trees (number of trees provided as hyperparameter) using randomly and independently(bagging) selected data from the trainset. The features also chosen at random for building each tree. So, each decision tree is trained on different dataset and different features. The prediction of the ensemble is given as the averaged prediction of the individual classifiers. \n",
    "- When building individual decision trees, the features are branched out. To decide which of the possible splits are better, the information gain is calculated, and we choose the one that has the highest information gain. The Information Gain of a split refers to how much information is gained by choosing one of the possible splits. The Gini impurity describes how pure or mixed the data labels in a node. The purer the data the closer Gini is to 0. Information gain is given by:\n",
    "               𝐼𝑛𝑓𝑜𝑟𝑚𝑎𝑡𝑖𝑜𝑛 𝐺𝑎𝑖𝑛 = 𝐼𝑚𝑝𝑢𝑟𝑖𝑡𝑦 𝑜𝑓 𝑝𝑎𝑟𝑒𝑛𝑡 – 𝑤𝑒𝑖𝑔ℎ𝑡𝑒𝑑 𝑎𝑣𝑒𝑟𝑎𝑔𝑒 𝑖𝑚𝑝𝑢𝑟𝑖𝑡𝑦 𝑜𝑓 𝑐ℎ𝑖𝑙𝑑𝑟𝑒𝑛\n",
    "- Entropy or the misclassification error is another impurity measures alternative to Gini impurity.\n",
    "- Decision tree is built by maximizing Information gain and minimizing Gini impurity or Entropy.\n",
    "\n",
    "**Random Forest Model building lifecycle**\n"
   ]
  },
  {
   "cell_type": "markdown",
   "metadata": {},
   "source": [
    "Enter the correct code in the cells below to execute each of the stated sub-tasks.\n",
    "### b) Setting hyper parameters with rationale<a class=\"anchor\" id=\"section4.b\"></a>\n",
    "\n",
    "**Explanation on Random Forest's hyper parameters:**\n",
    "\n",
    "Below are the hyperparameters available for RandomForest and the rationale for choosing them.\n",
    "Rationale for choosing the hyper parameter.\n",
    "<br>\n",
    "\n",
    "- n_estimators is kept to default value of 100 trees in a forest. Increasing trees decreases variance & improves accuracy but is computationally expensive. Hence retained 100.\n",
    "- Max depth – is the depth of the tree, used to prune the tree. Increasing depth increases accuracy, but it also overfits. Hence, defining an optimal depth is required.\n",
    "- Min_samples_split – if there are no samples defined as much as min_sample_split, then the split is not attempted.\n",
    "- Max_features – not all features are considered in each decision tree. Max features allows to configure number of features to be considered in each tree.\n",
    "- min_samples_leaf – this is configured to prune the tree. Tree can get complex with depth and hence, early stopping based on min_sample_leaf configured.\n",
    "- Criterion is the measure of impurity and is chosen as gini.\n",
    "- Class_weight – For imbalanced data sets, class weights can be defined for each class. In Credit card fraud classification scenario, as the dataset is highly imbalanced, the “balanced” value is used where values of class is automatically adjusted with weights inversely proportional to class frequencies in the input data. \n",
    "- bootstrap=true is the default hyper parameter which is not modified because we want each decision tree to be randomly sampled from the provided train set.\n"
   ]
  },
  {
   "cell_type": "code",
   "execution_count": 15,
   "metadata": {},
   "outputs": [],
   "source": [
    "#default params\n",
    "# n_estimators=100  - number of trees in the forest\n",
    "# bootstrap=true    - Whether bootstrap samples are used when building trees. If False, the whole dataset is used to build each tree\n",
    "# max_depth         - Maximum depth of the tree. If None, then nodes are expanded til all leaves are pure or < min_samples_split samples\n",
    "# min_samples_split- Minimum number of samples required to split an internal node\n",
    "# max_features      -  Number of features to consider when looking for the best split, max_features=sqrt(n_features) or log2(n_features)\n",
    "# min_samples_leaf  - Minimum number of samples required to be at a leaf node.\n",
    "rf_grid_params = {\n",
    "    \"max_depth\"          : [40,60],  \n",
    "    \"min_samples_split\"  : [2, 10,20,30], \n",
    "    \"max_features\"       : [ \"sqrt\",\"log2\"],\n",
    "    'min_samples_leaf'   : [1,10,30],\n",
    "    'class_weight': ['balanced_subsample'],\n",
    "    'warm_start': [True]\n",
    "}"
   ]
  },
  {
   "cell_type": "markdown",
   "metadata": {},
   "source": [
    "### c) Optimising hyper parameters<a class=\"anchor\" id=\"section4.c\"></a>"
   ]
  },
  {
   "cell_type": "markdown",
   "metadata": {},
   "source": [
    "\n",
    "\n",
    "- **Grid search** (GridSearchCV) is a technique used for optimal Hyper parameter selection. GridSearchCV exhaustively generates various candidates from a grid of parameter values specified in “param_grid” parameter and the default folds of cross validation is 5 times.\n",
    "- All the possible combinations of parameter values are evaluated and the best combination is selected that match the scoring metric provided in GridSearchCV .\n",
    "- The best parameter from the GridSearch can be known through the attribute grid_mdl.best_params_  \n",
    "- Due to longer time for computation to build many decision trees, Grid search parameters for RF algorithm is limited to few combinations only after trying out individually. In each of the 5-fold, 48 combinations are fitted (so total 5 * 48 = 240 iterations), which is displayed when the model starts executing if verbose=3\n",
    "             Fitting 5 folds for each of 48 candidates, totalling 240 fits\n",
    "- With a default cross validation, the optimal hyper parameters chosen are below:\n",
    "\n",
    "\n",
    "| Hyperparameter | BestValue | Description |\n",
    "| :- | -: | :-: |\n",
    "| n_estimators(default) | 100 | Number of trees in the forest\n",
    "| max_depth | 60 | Maximum depth of the tree\n",
    "| min_samples_split | 30 | Minimum number of samples required to split an internal node\n",
    "| max_features | log2 | Number of features to consider when looking for the best split\n",
    "| min_samples_leaf | 1 | Minimum number of samples required to be at a leaf node. \n",
    "| Criterion(default) | Gini | Function to measure the quality of a split\n",
    "| class_weight | balanced-subsample | Adjusts the class imbalance while building the decision trees.\n",
    "| warm_start | True | Reuses the solution of the previous call to fit and add more estimators to the ensemble\n",
    "| verbose | 3 | Print the progress messages to stdout\n",
    "| n_jobs  |-1 | Indicator to the processor to utilise all the CPU's for training to enable parallel processing"
   ]
  },
  {
   "cell_type": "markdown",
   "metadata": {},
   "source": [
    "- Below code trains a Random Forest algorithm along with GridSearch for hyper parameter selection with default 5-fold cross validation.\n",
    "- Best parameters & score are printed for reference."
   ]
  },
  {
   "cell_type": "code",
   "execution_count": 16,
   "metadata": {},
   "outputs": [
    {
     "name": "stdout",
     "output_type": "stream",
     "text": [
      "Fitting 5 folds for each of 48 candidates, totalling 240 fits\n"
     ]
    },
    {
     "name": "stderr",
     "output_type": "stream",
     "text": [
      "C:\\Users\\shilp\\anaconda3\\lib\\site-packages\\sklearn\\ensemble\\_forest.py:587: UserWarning: class_weight presets \"balanced\" or \"balanced_subsample\" are not recommended for warm_start if the fitted data differs from the full dataset. In order to use \"balanced\" weights, use compute_class_weight (\"balanced\", classes, y). In place of y you can use a large enough sample of the full training set target to properly estimate the class frequency distributions. Pass the resulting weights as the class_weight parameter.\n",
      "  warn('class_weight presets \"balanced\" or '\n"
     ]
    },
    {
     "name": "stdout",
     "output_type": "stream",
     "text": [
      "{'class_weight': 'balanced_subsample', 'max_depth': 60, 'max_features': 'log2', 'min_samples_leaf': 1, 'min_samples_split': 30, 'warm_start': True}\n",
      "0.8978099751439184\n"
     ]
    }
   ],
   "source": [
    "#import warnings; warnings.simplefilter('ignore')\n",
    "rf_model1=RandomForestClassifier()\n",
    "\n",
    "clf_rf_grid = GridSearchCV(estimator=rf_model1, param_grid=rf_grid_params, scoring='f1' ,n_jobs=-1,verbose=3)\n",
    "clf_rf_grid.fit(X_subsample_train, y_subsample_train)\n",
    "best_scores_rf_grid = clf_rf_grid.best_score_\n",
    "best_params_rf_grid = clf_rf_grid.best_params_  \n",
    "print(best_params_rf_grid)\n",
    "print(best_scores_rf_grid)"
   ]
  },
  {
   "cell_type": "markdown",
   "metadata": {},
   "source": [
    "Code to save the model to local desktop"
   ]
  },
  {
   "cell_type": "code",
   "execution_count": 32,
   "metadata": {},
   "outputs": [],
   "source": [
    "# Save RF classifier\n",
    "dump(clf_rf_grid, 'clf_rf_grid.joblib') \n",
    "clf_rf_grid_loaded = load('clf_rf_grid.joblib') "
   ]
  },
  {
   "cell_type": "markdown",
   "metadata": {},
   "source": [
    "### d) Performance metrics for training<a class=\"anchor\" id=\"section4.d\"></a>"
   ]
  },
  {
   "cell_type": "markdown",
   "metadata": {},
   "source": [
    "The subsampled train set & full train set is evaluated.\n",
    "Metrics printed are below:\n",
    "\n",
    "**Random Forest - Evaluation on train set Before Cross validation**  \n",
    "\n",
    "| Metric | Subsampled Train set |  Full Train set\n",
    "| :- | :- |  :-: | \n",
    "| F1 | 0.984  | 0.87 \n",
    "| Balanced Accuracy | 0.9970 | 0.9970  \n",
    "| Precision | 0.9736 | 0.7817 \n",
    "| Recall | 0.9946  | 0.9946  \n",
    "| ROC AUC score | 1   | 1\n",
    "| PR Curve | 0.99 |  0.94 \n",
    "| FP | 10/20371 | 103/213605\n",
    "| FN | 2/20371  | 2/213605"
   ]
  },
  {
   "cell_type": "code",
   "execution_count": 123,
   "metadata": {},
   "outputs": [
    {
     "name": "stdout",
     "output_type": "stream",
     "text": [
      "Model score accuracy-- 0.984\n",
      "Balanced accuracy-- 0.9970545822102426\n",
      "average_precision-- 0.9736147757255936\n",
      "roc_auc_score-- 0.9970545822102428\n",
      "recall_score-- 0.9946091644204852\n",
      "f1- 0.984\n",
      "              precision    recall  f1-score   support\n",
      "\n",
      "   Non-Fraud       1.00      1.00      1.00     20000\n",
      "       Fraud       0.97      0.99      0.98       371\n",
      "\n",
      "    accuracy                           1.00     20371\n",
      "   macro avg       0.99      1.00      0.99     20371\n",
      "weighted avg       1.00      1.00      1.00     20371\n",
      "\n",
      "[[19990    10]\n",
      " [    2   369]]\n"
     ]
    },
    {
     "data": {
      "image/png": "[encoded data removed]",
      "text/plain": [
       "<Figure size 432x288 with 2 Axes>"
      ]
     },
     "metadata": {
      "needs_background": "light"
     },
     "output_type": "display_data"
    }
   ],
   "source": [
    "print_model_metrics(clf_rf_grid, X_subsample_train.values,y_subsample_train,\"RF Subsample Train set\")"
   ]
  },
  {
   "cell_type": "code",
   "execution_count": 125,
   "metadata": {},
   "outputs": [
    {
     "name": "stdout",
     "output_type": "stream",
     "text": [
      "Model score accuracy-- 0.8754448398576513\n",
      "Balanced accuracy-- 0.9970630635030946\n",
      "average_precision-- 0.7817796610169492\n",
      "roc_auc_score-- 0.9970630635030946\n",
      "recall_score-- 0.9946091644204852\n",
      "f1- 0.8754448398576513\n",
      "              precision    recall  f1-score   support\n",
      "\n",
      "   Non-Fraud       1.00      1.00      1.00    213234\n",
      "       Fraud       0.78      0.99      0.88       371\n",
      "\n",
      "    accuracy                           1.00    213605\n",
      "   macro avg       0.89      1.00      0.94    213605\n",
      "weighted avg       1.00      1.00      1.00    213605\n",
      "\n",
      "[[213131    103]\n",
      " [     2    369]]\n"
     ]
    },
    {
     "data": {
      "image/png": "[encoded data removed]",
      "text/plain": [
       "<Figure size 432x288 with 2 Axes>"
      ]
     },
     "metadata": {
      "needs_background": "light"
     },
     "output_type": "display_data"
    }
   ],
   "source": [
    "print_model_metrics(clf_rf_grid, X_train.values,y_train,\"RF Full Train set\")"
   ]
  },
  {
   "cell_type": "markdown",
   "metadata": {},
   "source": [
    "RF - Before Cross validation - ROC Curve for Train Subsample & Train Full"
   ]
  },
  {
   "cell_type": "code",
   "execution_count": 196,
   "metadata": {},
   "outputs": [
    {
     "data": {
      "image/png": "[encoded data removed]",
      "text/plain": [
       "<Figure size 432x288 with 1 Axes>"
      ]
     },
     "metadata": {
      "needs_background": "light"
     },
     "output_type": "display_data"
    }
   ],
   "source": [
    "multiple_rocauc_curve_subsample_train(clf_rf_grid, X_subsample_train, y_subsample_train, X_train, y_train,  \"RF\")\n",
    "#Both train & subsample have same AUC"
   ]
  },
  {
   "cell_type": "markdown",
   "metadata": {},
   "source": [
    "RF - Before Cross validation - PR Curve for Train Subsample & Train Full"
   ]
  },
  {
   "cell_type": "code",
   "execution_count": 197,
   "metadata": {},
   "outputs": [
    {
     "data": {
      "image/png": "[encoded data removed]",
      "text/plain": [
       "<Figure size 432x288 with 1 Axes>"
      ]
     },
     "metadata": {
      "needs_background": "light"
     },
     "output_type": "display_data"
    }
   ],
   "source": [
    "multiple_pr_curve_subsample_train(clf_rf_grid, X_subsample_train, y_subsample_train, X_train, y_train,  \"RF\")"
   ]
  },
  {
   "cell_type": "code",
   "execution_count": null,
   "metadata": {},
   "outputs": [],
   "source": []
  },
  {
   "cell_type": "markdown",
   "metadata": {},
   "source": [
    "## 5. Technique 2 (20 marks)<a class=\"anchor\" id=\"section5\"></a>"
   ]
  },
  {
   "attachments": {},
   "cell_type": "markdown",
   "metadata": {},
   "source": [
    "### a) Discuss your motivation for choosing the technique (MLPClassifier) and  provide a schematic figure of the process<a class=\"anchor\" id=\"section5.a\"></a>\n",
    "\n",
    "(100-200 words)\n",
    "\n",
    "**Explanation**\n",
    "\n",
    "**Chosen technique:** \n",
    "- Sklearn’s MLPClassifier (Multilayer perceptron Classifier) (MLP)\n",
    "\n",
    "**Motivation for choosing MLP:**\n",
    "- MLP is a supervised learning algorithm used to solve linear & non-linear problems. It works by finding an a non-linear approximate function f(.): R^m  R^o underlaying the dataset where\n",
    "m is the number of dimensions for input \n",
    "O is the number of dimensions for output.\n",
    "- I wanted to try out one Ensemble technique and 1 non-ensemble non-tree-based technique that works best for the Credit card fraud detection. As I choose RF as the first technique, I wanted to explore how a non-tree-based technique performs on imbalanced dataset & hence choose MLPClassifier Neural network approach. \n",
    "- Though the Sklearns MLPClassifier doesn’t provide a great deal of flexibility like Tensor based frameworks (Tensorflow,PyTorch etc.), still the algorithm performs comparatively better than traditional algorithms like Logistic or Clustering techniques. \n",
    "- As the features are PCA converted, MLP would be a good choice for the algorithm to decide which features are most are important for classification based on the calculated weights. \n",
    "\n",
    "**Working:**\n",
    " \n",
    "- Terms:\n",
    "      - Input -> X=x1,x2,...,xm , Input features \n",
    "      - Target -> Out(y) \n",
    "      - Activation function -> a\n",
    "      - Multiple hidden layers & varying nodes at each layer\n",
    "- In our Credit card scenario, the network has 2 hidden layers with 100 & 10 neurons. Each neuron has a weight & bias initialized by Scikit-learn.\n",
    "- Each neuron in the hidden layer transforms the values from the previous layer with a weighted linear summation w1*x1 +w2*x2+..+wm*xm followed by a non-linear activation function which can be tanh, relu provided by Sklearn.\n",
    "- The output layer receives the values from the last hidden layer and transforms them into output values. The output is automatically calculated by MLPClassifier based on the target classes in the dataset. \n",
    "- During training, the algorithm adjusts the initial weights & bias at each layer such that the input data represents/fits the target by an approximate function. Weights itself are adjusted using backpropagation. Optimization function “Adam” is used for weight adjustments after backpropagation. \n",
    "- The algorithm outputs weight coefficients and bias as intercept attributes along with the class probabilities.\n",
    "\n",
    "\n",
    "**Multi-layer perceptron Model building lifecycle**"
   ]
  },
  {
   "attachments": {},
   "cell_type": "markdown",
   "metadata": {},
   "source": []
  },
  {
   "cell_type": "markdown",
   "metadata": {},
   "source": [
    "Enter the correct code in the cells below to execute each of the stated sub-tasks.\n",
    "### b) Setting hyper parameters with rationale<a class=\"anchor\" id=\"section5.b\"></a>\n"
   ]
  },
  {
   "cell_type": "markdown",
   "metadata": {},
   "source": [
    "**Explanation on MLP's hyper parameters:**\n",
    "\n",
    "Below are the hyperparameters selected for MLP and the rationale for choosing them.\n",
    "<br>\n",
    "\n",
    "- hidden_layer_size – was selected to add more hidden layers in the network to accommodate complex non-linear pattern in the dataset.\n",
    "- Activation “relu” was selected to add a non-linear function to the data after weight calculation.\n",
    "- Solver “adam” is a good helped to for faster convergence and hence was chosen during Gridsearch Cross validation.\n",
    "- Alpha parameter helps to avoid overfitting.\n",
    "- Batch size – optimal batch size for the dataset was chosen after which a backpropagation happens rather than backpropagation after an epoch\n",
    "- Learning rate initial – optimal Learning rate was chosen by Gridsearch Cross validation for weight updates.\n",
    "- Max_iter – the default value of 200 epochs did not lead to convergence, hence increased the epoc iterations to 500\n",
    "- Verbose is used only for the developer to know the progress at each iteration on number of fittings by the Gridsearch.\n",
    "- Other default parameters are used with default values.\n"
   ]
  },
  {
   "cell_type": "code",
   "execution_count": 22,
   "metadata": {},
   "outputs": [],
   "source": [
    "mlp_grid_params = {\n",
    "    \"hidden_layer_sizes\"          : [ [100, 10]],  \n",
    "    \"alpha\"  : [0.0001, 0.001], \n",
    "    \"activation\"       : [\"relu\", \"tanh\"],\n",
    "    'solver' : ['adam', 'lbfgs'],\n",
    "    'batch_size': [64],\n",
    "    \"learning_rate\": ['adaptive'],\n",
    "    \"learning_rate_init\": [0.001],\n",
    "    \"max_iter\": [500]\n",
    "}"
   ]
  },
  {
   "cell_type": "markdown",
   "metadata": {},
   "source": [
    "### c) Optimising hyper parameters<a class=\"anchor\" id=\"section5.c\"></a>"
   ]
  },
  {
   "cell_type": "markdown",
   "metadata": {},
   "source": [
    "- **Grid search** (GridSearchCV) is used for Hyper parameter selection. GridSearchCV exhaustively generates various candidates from a grid of parameter values specified in “param_grid” parameter and the default folds of cross validation is 5 times.\n",
    "- All the possible combinations of parameter values are evaluated and the best combination is selected that match the scoring metric provided in GridSearchCV .\n",
    "- The best parameter from the Gridsearch can be known through the attribute grid_mdl.best_params_  \n",
    "- Due to longer time for computation, Grid search parameters for MLP algorithm is limited to few combinations only after trying out individually. In each of the 5 fold, 8 combinations are fitted (so total 5 * 8 = 40 iterations) \n",
    "                    Fitting 5 folds for each of 8 candidates, totalling 40 fits\n",
    "\n",
    "- With a default cross validation=5, the optimal hyper parameters chosen for MLP are below:\n",
    "\n",
    "\n",
    "| Hyperparameter | BestValue | Description |\n",
    "| :- | -: | :-: |\n",
    "| hidden_layer_size | 100,10 | Number of hidden layers in the network\n",
    "| activation | relu | Activation function for the hidden layer.In our case, tanh & relu gave almost result.\n",
    "| solver | adam | The solver parametwer is used for optimizing the weights derived through backpropogation\n",
    "| alpha | 0.0001 | L2 penalty or the regularization term which helps to avoid overfitting by penalizing weights with large magnitudes. Best value chosen from Gridsearch is 0.0001\n",
    "| Batch size | 64 | is the batch after which the backpropagation happens \n",
    "| learning_rate_init | 0.001 | The initial learning rate used. It controls the step-size in updating the weights.\n",
    "| early stopping | False | Adjusts the class imbalance while building the decision trees.\n",
    "| max_iter | 500 | number of epochs, Maximum number of iterations till convergence.\n",
    "| verbose | 3 | Print the progress messages to stdout\n",
    "| n_jobs  |-1 | Indicator to the processor to utilise all the CPU's for training to enable parallel processing\n",
    "\n",
    "\n",
    "- Below code trains a MLP algorithm along with GridSearch for hyper parameter selection with default 5-fold cross validation.\n",
    "- Best parameters & score are printed for reference"
   ]
  },
  {
   "cell_type": "code",
   "execution_count": 23,
   "metadata": {},
   "outputs": [
    {
     "name": "stdout",
     "output_type": "stream",
     "text": [
      "Fitting 5 folds for each of 8 candidates, totalling 40 fits\n",
      "0.8835715363772918\n",
      "{'activation': 'tanh', 'alpha': 0.001, 'batch_size': 64, 'hidden_layer_sizes': [100, 10], 'learning_rate': 'adaptive', 'learning_rate_init': 0.001, 'max_iter': 500, 'solver': 'lbfgs'}\n"
     ]
    }
   ],
   "source": [
    "cv=StratifiedKFold(n_splits=5, random_state=98, shuffle=True)\n",
    "clfmlp=MLPClassifier()\n",
    "\n",
    "clf_mlp_grid_mdl = GridSearchCV(cv=cv,estimator=clfmlp, param_grid=mlp_grid_params, scoring='f1' ,n_jobs=-1,verbose=4)\n",
    "clf_mlp_grid_mdl.fit(X_subsample_train, y_subsample_train)\n",
    "best_scores_mlp_grid = clf_mlp_grid_mdl.best_score_\n",
    "best_params_mlp_grid = clf_mlp_grid_mdl.best_params_  \n",
    "print(best_scores_mlp_grid)\n",
    "print(best_params_mlp_grid)"
   ]
  },
  {
   "cell_type": "code",
   "execution_count": 17,
   "metadata": {},
   "outputs": [],
   "source": []
  },
  {
   "cell_type": "markdown",
   "metadata": {},
   "source": [
    "### d) Performance metrics for training<a class=\"anchor\" id=\"section5.d\"></a>"
   ]
  },
  {
   "cell_type": "markdown",
   "metadata": {},
   "source": [
    "The subsampled train set & full train set is evaluated.\n",
    "Metrics printed are below:\n",
    "\n",
    "**MLPClassifier - Evaluation on train set Before Cross validation**  \n",
    "\n",
    "| Metric | Subsampled_Train_set |  Full_Train_set\n",
    "| :- | :- | :-: | \n",
    "| F1 | 0.88 | 0.77 \n",
    "| Balanced Accuracy | 0.90  | 0.90  \n",
    "| Precision | 0.96   | 0.74  \n",
    "| Recall | 0.81   | 0.81  \n",
    "| ROC AUC score | 0.91  | 0.90 \n",
    "| PR Curve | 0.88 | 0.78\n",
    "| FP | 11/20371  | 101/213234 \n",
    "| FN | 70/20371  | 70/213234 "
   ]
  },
  {
   "cell_type": "code",
   "execution_count": 127,
   "metadata": {},
   "outputs": [
    {
     "name": "stdout",
     "output_type": "stream",
     "text": [
      "Model score accuracy-- 0.8814055636896048\n",
      "Balanced accuracy-- 0.9053853773584906\n",
      "average_precision-- 0.9647435897435898\n",
      "roc_auc_score-- 0.9053853773584906\n",
      "recall_score-- 0.8113207547169812\n",
      "f1- 0.8814055636896048\n",
      "              precision    recall  f1-score   support\n",
      "\n",
      "   Non-Fraud       1.00      1.00      1.00     20000\n",
      "       Fraud       0.96      0.81      0.88       371\n",
      "\n",
      "    accuracy                           1.00     20371\n",
      "   macro avg       0.98      0.91      0.94     20371\n",
      "weighted avg       1.00      1.00      1.00     20371\n",
      "\n",
      "[[19989    11]\n",
      " [   70   301]]\n"
     ]
    },
    {
     "data": {
      "image/png": "[encoded data removed]",
      "text/plain": [
       "<Figure size 432x288 with 2 Axes>"
      ]
     },
     "metadata": {
      "needs_background": "light"
     },
     "output_type": "display_data"
    }
   ],
   "source": [
    "print_model_metrics(clf_mlp_grid_mdl, X_subsample_train.values,y_subsample_train, \"MLP subsample Train set\")"
   ]
  },
  {
   "cell_type": "markdown",
   "metadata": {},
   "source": [
    "MLP - Before Cross validation - ROC Curve for Train Subsample & Train Full"
   ]
  },
  {
   "cell_type": "code",
   "execution_count": 198,
   "metadata": {},
   "outputs": [
    {
     "data": {
      "image/png": "[encoded data removed]",
      "text/plain": [
       "<Figure size 432x288 with 1 Axes>"
      ]
     },
     "metadata": {
      "needs_background": "light"
     },
     "output_type": "display_data"
    }
   ],
   "source": [
    "multiple_rocauc_curve_subsample_train(clf_mlp_grid_mdl, X_subsample_train, y_subsample_train, X_train, y_train,  \"MLP\")\n",
    "#Both train & subsample have same AUC"
   ]
  },
  {
   "cell_type": "markdown",
   "metadata": {},
   "source": [
    "MLP - Before Cross validation - PR Curve for Train Subsample & Train Full"
   ]
  },
  {
   "cell_type": "code",
   "execution_count": 199,
   "metadata": {},
   "outputs": [
    {
     "data": {
      "image/png": "[encoded data removed]",
      "text/plain": [
       "<Figure size 432x288 with 1 Axes>"
      ]
     },
     "metadata": {
      "needs_background": "light"
     },
     "output_type": "display_data"
    }
   ],
   "source": [
    "multiple_pr_curve_subsample_train(clf_mlp_grid_mdl, X_subsample_train, y_subsample_train, X_train, y_train,  \"MLP\")"
   ]
  },
  {
   "cell_type": "markdown",
   "metadata": {},
   "source": [
    "## 6. Comparison of metrics performance for testing (16 marks)<a class=\"anchor\" id=\"section6\"></a>\n",
    "Enter the correct code in the cells below to execute each of the stated sub-tasks. \n"
   ]
  },
  {
   "cell_type": "markdown",
   "metadata": {},
   "source": [
    "### a) Use of cross validation for both techniques to deal with over-fitting<a class=\"anchor\" id=\"section6.a\"></a>\n",
    "\n",
    "- **Cross validation** is a testing technique that is useful to balance out the different patterns that might exist in the data. Cross validation helps to reduce over fitting the model on one pattern of data. \n",
    "- Train set is partitioned into subsets with equal instances. One subset is reserved for testing & remaining subsets for model training. This is repeated multiple times & the test results are averaged. This reduces the variances in the dataset.\n",
    "- Below, nested cross validation with hyper parameter selection technique is used. Grid search CV selects the best hyperparameters on various **inner CV**. This model is then finally evaluated using \"cross_val_score\" method on **outer CV** which repeatedly evaluates the best model multiple times and evaluated score is then averaged.\n"
   ]
  },
  {
   "cell_type": "markdown",
   "metadata": {},
   "source": [
    "##  Cross-validation - Technique 1 - Random Forest"
   ]
  },
  {
   "cell_type": "markdown",
   "metadata": {},
   "source": [
    "#### Random Forest - Apply Inner & Outer Cross Validation"
   ]
  },
  {
   "cell_type": "code",
   "execution_count": 60,
   "metadata": {},
   "outputs": [
    {
     "name": "stdout",
     "output_type": "stream",
     "text": [
      "Fitting 5 folds for each of 48 candidates, totalling 240 fits\n",
      "Random Forest Best Param --- {'class_weight': 'balanced', 'max_depth': 60, 'max_features': 'log2', 'min_samples_leaf': 10, 'min_samples_split': 10, 'warm_start': True} 0.9032895066444195\n"
     ]
    },
    {
     "name": "stderr",
     "output_type": "stream",
     "text": [
      "[Parallel(n_jobs=-1)]: Using backend LokyBackend with 8 concurrent workers.\n",
      "[Parallel(n_jobs=-1)]: Done   2 out of   5 | elapsed: 76.4min remaining: 114.6min\n",
      "[Parallel(n_jobs=-1)]: Done   5 out of   5 | elapsed: 76.5min finished\n"
     ]
    },
    {
     "name": "stdout",
     "output_type": "stream",
     "text": [
      "Fitting 5 folds for each of 48 candidates, totalling 240 fits\n",
      "Random Forest Best Param --- {'class_weight': 'balanced', 'max_depth': 40, 'max_features': 'sqrt', 'min_samples_leaf': 10, 'min_samples_split': 2, 'warm_start': True} 0.9027450873350873\n"
     ]
    },
    {
     "name": "stderr",
     "output_type": "stream",
     "text": [
      "[Parallel(n_jobs=-1)]: Using backend LokyBackend with 8 concurrent workers.\n",
      "[Parallel(n_jobs=-1)]: Done   2 out of   5 | elapsed: 16.1min remaining: 24.2min\n",
      "[Parallel(n_jobs=-1)]: Done   5 out of   5 | elapsed: 16.2min finished\n"
     ]
    },
    {
     "name": "stdout",
     "output_type": "stream",
     "text": [
      "Fitting 5 folds for each of 48 candidates, totalling 240 fits\n",
      "Random Forest Best Param --- {'class_weight': 'balanced', 'max_depth': 40, 'max_features': 'sqrt', 'min_samples_leaf': 1, 'min_samples_split': 20, 'warm_start': True} 0.9006456678106899\n"
     ]
    },
    {
     "name": "stderr",
     "output_type": "stream",
     "text": [
      "[Parallel(n_jobs=-1)]: Using backend LokyBackend with 8 concurrent workers.\n",
      "[Parallel(n_jobs=-1)]: Done   2 out of   5 | elapsed: 15.9min remaining: 23.9min\n",
      "[Parallel(n_jobs=-1)]: Done   5 out of   5 | elapsed: 16.0min finished\n"
     ]
    },
    {
     "name": "stdout",
     "output_type": "stream",
     "text": [
      "Fitting 5 folds for each of 48 candidates, totalling 240 fits\n",
      "Random Forest Best Param --- {'class_weight': 'balanced', 'max_depth': 60, 'max_features': 'sqrt', 'min_samples_leaf': 1, 'min_samples_split': 30, 'warm_start': True} 0.8973236575797428\n"
     ]
    },
    {
     "name": "stderr",
     "output_type": "stream",
     "text": [
      "[Parallel(n_jobs=-1)]: Using backend LokyBackend with 8 concurrent workers.\n",
      "[Parallel(n_jobs=-1)]: Done   2 out of   5 | elapsed: 16.9min remaining: 25.4min\n",
      "[Parallel(n_jobs=-1)]: Done   5 out of   5 | elapsed: 17.0min finished\n"
     ]
    },
    {
     "name": "stdout",
     "output_type": "stream",
     "text": [
      "Fitting 5 folds for each of 48 candidates, totalling 240 fits\n",
      "Random Forest Best Param --- {'class_weight': 'balanced', 'max_depth': 60, 'max_features': 'sqrt', 'min_samples_leaf': 10, 'min_samples_split': 2, 'warm_start': True} 0.9035974475382431\n"
     ]
    },
    {
     "name": "stderr",
     "output_type": "stream",
     "text": [
      "[Parallel(n_jobs=-1)]: Using backend LokyBackend with 8 concurrent workers.\n",
      "[Parallel(n_jobs=-1)]: Done   2 out of   5 | elapsed: 16.5min remaining: 24.7min\n",
      "[Parallel(n_jobs=-1)]: Done   5 out of   5 | elapsed: 16.6min finished\n"
     ]
    },
    {
     "name": "stdout",
     "output_type": "stream",
     "text": [
      "Fitting 5 folds for each of 48 candidates, totalling 240 fits\n",
      "Random Forest Best Param --- {'class_weight': 'balanced', 'max_depth': 60, 'max_features': 'log2', 'min_samples_leaf': 10, 'min_samples_split': 20, 'warm_start': True} 0.9013505919137337\n"
     ]
    },
    {
     "name": "stderr",
     "output_type": "stream",
     "text": [
      "[Parallel(n_jobs=-1)]: Using backend LokyBackend with 8 concurrent workers.\n",
      "[Parallel(n_jobs=-1)]: Done   2 out of   5 | elapsed: 17.4min remaining: 26.1min\n",
      "[Parallel(n_jobs=-1)]: Done   5 out of   5 | elapsed: 17.4min finished\n"
     ]
    },
    {
     "name": "stdout",
     "output_type": "stream",
     "text": [
      "Fitting 5 folds for each of 48 candidates, totalling 240 fits\n",
      "Random Forest Best Param --- {'class_weight': 'balanced', 'max_depth': 60, 'max_features': 'sqrt', 'min_samples_leaf': 1, 'min_samples_split': 20, 'warm_start': True} 0.8976983559253082\n"
     ]
    },
    {
     "name": "stderr",
     "output_type": "stream",
     "text": [
      "[Parallel(n_jobs=-1)]: Using backend LokyBackend with 8 concurrent workers.\n",
      "[Parallel(n_jobs=-1)]: Done   2 out of   5 | elapsed: 16.7min remaining: 25.1min\n",
      "[Parallel(n_jobs=-1)]: Done   5 out of   5 | elapsed: 16.8min finished\n"
     ]
    },
    {
     "name": "stdout",
     "output_type": "stream",
     "text": [
      "Fitting 5 folds for each of 48 candidates, totalling 240 fits\n",
      "Random Forest Best Param --- {'class_weight': 'balanced', 'max_depth': 40, 'max_features': 'sqrt', 'min_samples_leaf': 10, 'min_samples_split': 2, 'warm_start': True} 0.8985406868437746\n"
     ]
    },
    {
     "name": "stderr",
     "output_type": "stream",
     "text": [
      "[Parallel(n_jobs=-1)]: Using backend LokyBackend with 8 concurrent workers.\n",
      "[Parallel(n_jobs=-1)]: Done   2 out of   5 | elapsed: 17.2min remaining: 25.8min\n",
      "[Parallel(n_jobs=-1)]: Done   5 out of   5 | elapsed: 17.3min finished\n"
     ]
    },
    {
     "name": "stdout",
     "output_type": "stream",
     "text": [
      "Fitting 5 folds for each of 48 candidates, totalling 240 fits\n",
      "Random Forest Best Param --- {'class_weight': 'balanced', 'max_depth': 40, 'max_features': 'log2', 'min_samples_leaf': 1, 'min_samples_split': 30, 'warm_start': True} 0.9050808148735265\n"
     ]
    },
    {
     "name": "stderr",
     "output_type": "stream",
     "text": [
      "[Parallel(n_jobs=-1)]: Using backend LokyBackend with 8 concurrent workers.\n",
      "[Parallel(n_jobs=-1)]: Done   2 out of   5 | elapsed: 19.1min remaining: 28.6min\n",
      "[Parallel(n_jobs=-1)]: Done   5 out of   5 | elapsed: 19.1min finished\n"
     ]
    },
    {
     "name": "stdout",
     "output_type": "stream",
     "text": [
      "Fitting 5 folds for each of 48 candidates, totalling 240 fits\n",
      "Random Forest Best Param --- {'class_weight': 'balanced', 'max_depth': 40, 'max_features': 'log2', 'min_samples_leaf': 1, 'min_samples_split': 30, 'warm_start': True} 0.898629307080651\n"
     ]
    },
    {
     "name": "stderr",
     "output_type": "stream",
     "text": [
      "[Parallel(n_jobs=-1)]: Using backend LokyBackend with 8 concurrent workers.\n",
      "[Parallel(n_jobs=-1)]: Done   2 out of   5 | elapsed: 28.1min remaining: 42.1min\n"
     ]
    },
    {
     "name": "stdout",
     "output_type": "stream",
     "text": [
      "Final Score for a RF Technique =  0.8960473416525575\n",
      "--- Time taken for execution 17452.462138175964 seconds ---\n"
     ]
    },
    {
     "name": "stderr",
     "output_type": "stream",
     "text": [
      "[Parallel(n_jobs=-1)]: Done   5 out of   5 | elapsed: 28.1min finished\n"
     ]
    }
   ],
   "source": [
    "rf_mdl_eval=RandomForestClassifier()\n",
    "NUM_TRIALS =  10\n",
    "\n",
    "non_nested_scores = [] # list to store the best scores\n",
    "non_nested_params = [] # list to store the best hyper parameters in each iteration\n",
    "\n",
    "nested_scores = []\n",
    "\n",
    "lst_rf_mdls_cv = [] \n",
    "start_time = time.time()\n",
    "import warnings; warnings.simplefilter('ignore')\n",
    "shuffle = True \n",
    "# Loop for each trial\n",
    "for i in range(NUM_TRIALS):\n",
    "\n",
    "    # Choose cross-validation techniques for the inner and outer loops, independently of the dataset.\n",
    "    rnd = i if shuffle else None\n",
    "    inner_cv = StratifiedKFold(n_splits=5, shuffle=shuffle, random_state=rnd)\n",
    "    outer_cv = StratifiedKFold(n_splits=5, shuffle=shuffle, random_state=rnd)\n",
    "\n",
    "    # Non_nested parameter search and scoring\n",
    "    # refit should hold the main score that will be used for optimising the hyper parameters\n",
    "    clf_rf_gridcv_mdl = GridSearchCV(estimator=rf_mdl_eval, param_grid=rf_grid_params, cv=inner_cv, n_jobs=-1,verbose=3,scoring='f1', refit = 'f1')\n",
    "    non_nested_score = clf_rf_gridcv_mdl.fit(X_subsample_train, y_subsample_train)\n",
    "    non_nested_scores.append(clf_rf_gridcv_mdl.best_score_)\n",
    "    non_nested_params.append(clf_rf_gridcv_mdl.best_params_)\n",
    "    print(\"Random Forest Best Param ---\", clf_rf_gridcv_mdl.best_params_, clf_rf_gridcv_mdl.best_score_) \n",
    "\n",
    "    lst_rf_mdls_cv.append(clf_rf_gridcv_mdl)\n",
    "\n",
    "    # Below best score corresponds with the parameters with maximum average score.    \n",
    "    # Nested CV with parameter optimisation\n",
    "    \n",
    "    nested_score = cross_val_score(clf_rf_gridcv_mdl, X=X_sub, y=y_sub, cv=outer_cv, scoring='f1', n_jobs=-1,verbose=3)\n",
    "    nested_scores.append( nested_score.mean())\n",
    "    \n",
    "    # Below we show the final score of each outer fold after optimising the parameters. nested_score\n",
    "    # holds the score of the best model on the an outer fold, the best model is obtained via GridSearchCV \n",
    "    # on the rest of the outer folds (n-1) where n is the number of folds.\n",
    "    # we are selecting the model in the inner CV. So, please be mindful that nested CV is for model evaluation only   \n",
    "    \n",
    "print('Final Score for a RF Technique = ',np.mean( nested_scores)  )\n",
    "print(\"--- Time taken for execution %s seconds ---\" % (time.time() - start_time))"
   ]
  },
  {
   "cell_type": "markdown",
   "metadata": {},
   "source": [
    "### Random Forest - Fit the best parameters selected in Cross Validation to build final RF Model"
   ]
  },
  {
   "cell_type": "code",
   "execution_count": 31,
   "metadata": {},
   "outputs": [
    {
     "name": "stderr",
     "output_type": "stream",
     "text": [
      "C:\\Users\\shilp\\anaconda3\\lib\\site-packages\\sklearn\\ensemble\\_forest.py:587: UserWarning: class_weight presets \"balanced\" or \"balanced_subsample\" are not recommended for warm_start if the fitted data differs from the full dataset. In order to use \"balanced\" weights, use compute_class_weight (\"balanced\", classes, y). In place of y you can use a large enough sample of the full training set target to properly estimate the class frequency distributions. Pass the resulting weights as the class_weight parameter.\n",
      "  warn('class_weight presets \"balanced\" or '\n"
     ]
    },
    {
     "data": {
      "text/plain": [
       "RandomForestClassifier(class_weight='balanced_subsample', max_depth=40,\n",
       "                       max_features='sqrt', min_samples_split=20,\n",
       "                       warm_start=True)"
      ]
     },
     "execution_count": 31,
     "metadata": {},
     "output_type": "execute_result"
    }
   ],
   "source": [
    "warnings.simplefilter('ignore')\n",
    "rf_mdl_final1 = RandomForestClassifier(\n",
    "class_weight= 'balanced_subsample', max_depth= 40, max_features= 'sqrt', min_samples_leaf= 1, min_samples_split=20, warm_start= True)\n",
    "rf_mdl_final1.fit(X_subsample_train, y_subsample_train)\n"
   ]
  },
  {
   "cell_type": "code",
   "execution_count": 131,
   "metadata": {},
   "outputs": [
    {
     "name": "stdout",
     "output_type": "stream",
     "text": [
      "Model score accuracy-- 0.9996072848657405\n",
      "Balanced accuracy-- 0.9998\n",
      "average_precision-- 0.978891820580475\n",
      "roc_auc_score-- 0.9998\n",
      "recall_score-- 1.0\n",
      "f1- 0.9893333333333333\n",
      "              precision    recall  f1-score   support\n",
      "\n",
      "   Non-Fraud       1.00      1.00      1.00     20000\n",
      "       Fraud       0.98      1.00      0.99       371\n",
      "\n",
      "    accuracy                           1.00     20371\n",
      "   macro avg       0.99      1.00      0.99     20371\n",
      "weighted avg       1.00      1.00      1.00     20371\n",
      "\n",
      "[[19992     8]\n",
      " [    0   371]]\n"
     ]
    },
    {
     "data": {
      "image/png": "[encoded data removed]",
      "text/plain": [
       "<Figure size 432x288 with 2 Axes>"
      ]
     },
     "metadata": {
      "needs_background": "light"
     },
     "output_type": "display_data"
    }
   ],
   "source": [
    "print_model_metrics(rf_mdl_final1,X_subsample_train, y_subsample_train, \"RF Subsample Trainset\")"
   ]
  },
  {
   "cell_type": "code",
   "execution_count": 141,
   "metadata": {},
   "outputs": [
    {
     "name": "stdout",
     "output_type": "stream",
     "text": [
      "Model score accuracy-- 0.9996629292385478\n",
      "Balanced accuracy-- 0.9998311713891781\n",
      "average_precision-- 0.837471783295711\n",
      "roc_auc_score-- 0.9998311713891781\n",
      "recall_score-- 1.0\n",
      "f1- 0.9115479115479115\n",
      "              precision    recall  f1-score   support\n",
      "\n",
      "   Non-Fraud       1.00      1.00      1.00    213234\n",
      "       Fraud       0.84      1.00      0.91       371\n",
      "\n",
      "    accuracy                           1.00    213605\n",
      "   macro avg       0.92      1.00      0.96    213605\n",
      "weighted avg       1.00      1.00      1.00    213605\n",
      "\n",
      "[[213162     72]\n",
      " [     0    371]]\n"
     ]
    },
    {
     "data": {
      "image/png": "[encoded data removed]",
      "text/plain": [
       "<Figure size 432x288 with 2 Axes>"
      ]
     },
     "metadata": {
      "needs_background": "light"
     },
     "output_type": "display_data"
    }
   ],
   "source": [
    "print_model_metrics(rf_mdl_final1,X_train, y_train, \"RF Full Train set\")"
   ]
  },
  {
   "cell_type": "markdown",
   "metadata": {},
   "source": [
    "Random Forest - After Cross validation - ROC Curve for Train Subsample & Train Full"
   ]
  },
  {
   "cell_type": "code",
   "execution_count": 200,
   "metadata": {},
   "outputs": [
    {
     "data": {
      "image/png": "[encoded data removed]",
      "text/plain": [
       "<Figure size 432x288 with 1 Axes>"
      ]
     },
     "metadata": {
      "needs_background": "light"
     },
     "output_type": "display_data"
    }
   ],
   "source": [
    "multiple_rocauc_curve_subsample_train(rf_mdl_final1, X_subsample_train, y_subsample_train, X_train, y_train,  \"RF\")\n",
    "# Subsample & Train have same AUC"
   ]
  },
  {
   "cell_type": "markdown",
   "metadata": {},
   "source": [
    "Random Forest - After Cross validation - PR Curve for Train Subsample & Train Full"
   ]
  },
  {
   "cell_type": "code",
   "execution_count": 201,
   "metadata": {},
   "outputs": [
    {
     "data": {
      "image/png": "[encoded data removed]",
      "text/plain": [
       "<Figure size 432x288 with 1 Axes>"
      ]
     },
     "metadata": {
      "needs_background": "light"
     },
     "output_type": "display_data"
    }
   ],
   "source": [
    "multiple_pr_curve_subsample_train(rf_mdl_final1, X_subsample_train, y_subsample_train, X_train, y_train,  \"RF\")"
   ]
  },
  {
   "cell_type": "markdown",
   "metadata": {},
   "source": [
    "## Cross-validation - Technique 2 - MLP Classifier"
   ]
  },
  {
   "cell_type": "markdown",
   "metadata": {},
   "source": [
    "#### MLP - Apply Inner & Outer Cross Validation"
   ]
  },
  {
   "cell_type": "code",
   "execution_count": 60,
   "metadata": {},
   "outputs": [
    {
     "name": "stdout",
     "output_type": "stream",
     "text": [
      "Fitting 4 folds for each of 8 candidates, totalling 32 fits\n",
      "MLP Best Param --- {'activation': 'tanh', 'alpha': 0.001, 'batch_size': 64, 'hidden_layer_sizes': [100, 10], 'learning_rate': 'adaptive', 'learning_rate_init': 0.001, 'max_iter': 500, 'solver': 'lbfgs'} 0.8837775366762582\n"
     ]
    },
    {
     "name": "stderr",
     "output_type": "stream",
     "text": [
      "[Parallel(n_jobs=-1)]: Using backend LokyBackend with 8 concurrent workers.\n",
      "[Parallel(n_jobs=-1)]: Done   4 out of   4 | elapsed:  6.5min finished\n"
     ]
    },
    {
     "name": "stdout",
     "output_type": "stream",
     "text": [
      "Fitting 4 folds for each of 8 candidates, totalling 32 fits\n",
      "MLP Best Param --- {'activation': 'relu', 'alpha': 0.001, 'batch_size': 64, 'hidden_layer_sizes': [100, 10], 'learning_rate': 'adaptive', 'learning_rate_init': 0.001, 'max_iter': 500, 'solver': 'lbfgs'} 0.8788733504053047\n"
     ]
    },
    {
     "name": "stderr",
     "output_type": "stream",
     "text": [
      "[Parallel(n_jobs=-1)]: Using backend LokyBackend with 8 concurrent workers.\n",
      "[Parallel(n_jobs=-1)]: Done   4 out of   4 | elapsed:  5.8min finished\n"
     ]
    },
    {
     "name": "stdout",
     "output_type": "stream",
     "text": [
      "Fitting 4 folds for each of 8 candidates, totalling 32 fits\n",
      "MLP Best Param --- {'activation': 'relu', 'alpha': 0.0001, 'batch_size': 64, 'hidden_layer_sizes': [100, 10], 'learning_rate': 'adaptive', 'learning_rate_init': 0.001, 'max_iter': 500, 'solver': 'adam'} 0.8803720155773908\n"
     ]
    },
    {
     "name": "stderr",
     "output_type": "stream",
     "text": [
      "[Parallel(n_jobs=-1)]: Using backend LokyBackend with 8 concurrent workers.\n",
      "[Parallel(n_jobs=-1)]: Done   4 out of   4 | elapsed: 10.2min finished\n"
     ]
    },
    {
     "name": "stdout",
     "output_type": "stream",
     "text": [
      "Fitting 4 folds for each of 8 candidates, totalling 32 fits\n",
      "MLP Best Param --- {'activation': 'relu', 'alpha': 0.0001, 'batch_size': 64, 'hidden_layer_sizes': [100, 10], 'learning_rate': 'adaptive', 'learning_rate_init': 0.001, 'max_iter': 500, 'solver': 'lbfgs'} 0.8893494269381319\n"
     ]
    },
    {
     "name": "stderr",
     "output_type": "stream",
     "text": [
      "[Parallel(n_jobs=-1)]: Using backend LokyBackend with 8 concurrent workers.\n",
      "[Parallel(n_jobs=-1)]: Done   4 out of   4 | elapsed:  9.5min finished\n"
     ]
    },
    {
     "name": "stdout",
     "output_type": "stream",
     "text": [
      "Fitting 4 folds for each of 8 candidates, totalling 32 fits\n",
      "MLP Best Param --- {'activation': 'tanh', 'alpha': 0.001, 'batch_size': 64, 'hidden_layer_sizes': [100, 10], 'learning_rate': 'adaptive', 'learning_rate_init': 0.001, 'max_iter': 500, 'solver': 'lbfgs'} 0.881930644005288\n"
     ]
    },
    {
     "name": "stderr",
     "output_type": "stream",
     "text": [
      "[Parallel(n_jobs=-1)]: Using backend LokyBackend with 8 concurrent workers.\n",
      "[Parallel(n_jobs=-1)]: Done   4 out of   4 | elapsed:  8.7min finished\n"
     ]
    },
    {
     "name": "stdout",
     "output_type": "stream",
     "text": [
      "Fitting 4 folds for each of 8 candidates, totalling 32 fits\n",
      "MLP Best Param --- {'activation': 'tanh', 'alpha': 0.0001, 'batch_size': 64, 'hidden_layer_sizes': [100, 10], 'learning_rate': 'adaptive', 'learning_rate_init': 0.001, 'max_iter': 500, 'solver': 'lbfgs'} 0.8840670759321693\n"
     ]
    },
    {
     "name": "stderr",
     "output_type": "stream",
     "text": [
      "[Parallel(n_jobs=-1)]: Using backend LokyBackend with 8 concurrent workers.\n",
      "[Parallel(n_jobs=-1)]: Done   4 out of   4 | elapsed: 10.9min finished\n"
     ]
    },
    {
     "name": "stdout",
     "output_type": "stream",
     "text": [
      "Fitting 4 folds for each of 8 candidates, totalling 32 fits\n",
      "MLP Best Param --- {'activation': 'relu', 'alpha': 0.0001, 'batch_size': 64, 'hidden_layer_sizes': [100, 10], 'learning_rate': 'adaptive', 'learning_rate_init': 0.001, 'max_iter': 500, 'solver': 'adam'} 0.8766925734996173\n"
     ]
    },
    {
     "name": "stderr",
     "output_type": "stream",
     "text": [
      "[Parallel(n_jobs=-1)]: Using backend LokyBackend with 8 concurrent workers.\n",
      "[Parallel(n_jobs=-1)]: Done   4 out of   4 | elapsed: 10.8min finished\n"
     ]
    },
    {
     "name": "stdout",
     "output_type": "stream",
     "text": [
      "Fitting 4 folds for each of 8 candidates, totalling 32 fits\n",
      "MLP Best Param --- {'activation': 'tanh', 'alpha': 0.0001, 'batch_size': 64, 'hidden_layer_sizes': [100, 10], 'learning_rate': 'adaptive', 'learning_rate_init': 0.001, 'max_iter': 500, 'solver': 'adam'} 0.884564325607992\n"
     ]
    },
    {
     "name": "stderr",
     "output_type": "stream",
     "text": [
      "[Parallel(n_jobs=-1)]: Using backend LokyBackend with 8 concurrent workers.\n",
      "[Parallel(n_jobs=-1)]: Done   4 out of   4 | elapsed: 10.0min finished\n"
     ]
    },
    {
     "name": "stdout",
     "output_type": "stream",
     "text": [
      "Fitting 4 folds for each of 8 candidates, totalling 32 fits\n",
      "MLP Best Param --- {'activation': 'relu', 'alpha': 0.001, 'batch_size': 64, 'hidden_layer_sizes': [100, 10], 'learning_rate': 'adaptive', 'learning_rate_init': 0.001, 'max_iter': 500, 'solver': 'lbfgs'} 0.8876613500808215\n"
     ]
    },
    {
     "name": "stderr",
     "output_type": "stream",
     "text": [
      "[Parallel(n_jobs=-1)]: Using backend LokyBackend with 8 concurrent workers.\n",
      "[Parallel(n_jobs=-1)]: Done   4 out of   4 | elapsed: 11.2min finished\n"
     ]
    },
    {
     "name": "stdout",
     "output_type": "stream",
     "text": [
      "Fitting 4 folds for each of 8 candidates, totalling 32 fits\n",
      "MLP Best Param --- {'activation': 'tanh', 'alpha': 0.0001, 'batch_size': 64, 'hidden_layer_sizes': [100, 10], 'learning_rate': 'adaptive', 'learning_rate_init': 0.001, 'max_iter': 500, 'solver': 'adam'} 0.8852989207164528\n"
     ]
    },
    {
     "name": "stderr",
     "output_type": "stream",
     "text": [
      "[Parallel(n_jobs=-1)]: Using backend LokyBackend with 8 concurrent workers.\n"
     ]
    },
    {
     "name": "stdout",
     "output_type": "stream",
     "text": [
      "Final Score for MLP Technique =  0.8749579488972319\n"
     ]
    },
    {
     "name": "stderr",
     "output_type": "stream",
     "text": [
      "[Parallel(n_jobs=-1)]: Done   4 out of   4 | elapsed: 10.2min finished\n"
     ]
    }
   ],
   "source": [
    "mlp_mdl_eval=MLPClassifier()\n",
    "NUM_TRIALS = 10\n",
    "\n",
    "non_nested_scores = [] # list to store the best scores\n",
    "non_nested_params = [] # list to store the best hyper parameters in each iteration\n",
    "\n",
    "nested_scores = [] # holds the scores of cross_validation_score\n",
    "\n",
    "lst_mlp_mdls_cv = [] # holds all the cross validated models & later is saved as pickle file to desktop for future use\n",
    "\n",
    "import warnings; warnings.simplefilter('ignore')\n",
    "shuffle = True \n",
    "# Loop for each trial\n",
    "for i in range(NUM_TRIALS):\n",
    "\n",
    "    # Choose cross-validation techniques for the inner and outer loops, independently of the dataset.\n",
    "    rnd = i if shuffle else None\n",
    "    inner_cv = StratifiedKFold(n_splits=4, shuffle=shuffle, random_state=rnd)\n",
    "    outer_cv = StratifiedKFold(n_splits=4, shuffle=shuffle, random_state=rnd)\n",
    "\n",
    "    # Non_nested parameter search and scoring\n",
    "    # refit holds the main score that is used for optimising the hyper parameters\n",
    "    clf_mlp_grid_mdl = GridSearchCV(estimator=mlp_mdl_eval, param_grid=mlp_grid_params, cv=inner_cv, n_jobs=-1,verbose=3,scoring='f1', refit = 'f1')\n",
    "    non_nested_score = clf_mlp_grid_mdl.fit(X_subsample_train, y_subsample_train)\n",
    "    non_nested_scores.append(clf_mlp_grid_mdl.best_score_)\n",
    "    non_nested_params.append(clf_mlp_grid_mdl.best_params_)\n",
    "    print(\"MLP Best Param ---\", clf_mlp_grid_mdl.best_params_, clf_mlp_grid_mdl.best_score_) \n",
    "\n",
    "    lst_mlp_mdls_cv.append(clf_mlp_grid_mdl)\n",
    "     \n",
    "    nested_score = cross_val_score(clf_mlp_grid_mdl, X=X_subsample_train, y=y_subsample_train, cv=outer_cv, scoring='f1', n_jobs=-1,verbose=3)\n",
    "    nested_scores.append( nested_score.mean())\n",
    "    \n",
    "print('Final Score for MLP Technique = ',np.mean(nested_scores))  \n"
   ]
  },
  {
   "cell_type": "code",
   "execution_count": null,
   "metadata": {},
   "outputs": [],
   "source": []
  },
  {
   "cell_type": "markdown",
   "metadata": {},
   "source": [
    "### MLP - Fit the best parameters selected in Cross Validation to build final MLP Model"
   ]
  },
  {
   "cell_type": "code",
   "execution_count": 73,
   "metadata": {},
   "outputs": [
    {
     "data": {
      "text/plain": [
       "MLPClassifier(batch_size=64, hidden_layer_sizes=[100, 10],\n",
       "              learning_rate='adaptive', max_iter=500)"
      ]
     },
     "execution_count": 73,
     "metadata": {},
     "output_type": "execute_result"
    }
   ],
   "source": [
    "mlp_mdl_final1=MLPClassifier()\n",
    "mlp_mdl_final1=MLPClassifier( activation = 'relu', alpha= 0.0001, batch_size= 64, hidden_layer_sizes= [100, 10], learning_rate= 'adaptive',learning_rate_init= 0.001, max_iter= 500, solver='adam')\n",
    "mlp_mdl_final1.fit(X_subsample_train,y_subsample_train)"
   ]
  },
  {
   "cell_type": "code",
   "execution_count": 160,
   "metadata": {},
   "outputs": [
    {
     "name": "stdout",
     "output_type": "stream",
     "text": [
      "Model score accuracy-- 0.9956310441313632\n",
      "Balanced accuracy-- 0.8919582884097035\n",
      "average_precision-- 0.97\n",
      "roc_auc_score-- 0.8919582884097036\n",
      "recall_score-- 0.784366576819407\n",
      "f1- 0.8673621460506706\n",
      "              precision    recall  f1-score   support\n",
      "\n",
      "   Non-Fraud       1.00      1.00      1.00     20000\n",
      "       Fraud       0.97      0.78      0.87       371\n",
      "\n",
      "    accuracy                           1.00     20371\n",
      "   macro avg       0.98      0.89      0.93     20371\n",
      "weighted avg       1.00      1.00      1.00     20371\n",
      "\n",
      "[[19991     9]\n",
      " [   80   291]]\n"
     ]
    },
    {
     "data": {
      "image/png": "[encoded data removed]",
      "text/plain": [
       "<Figure size 432x288 with 2 Axes>"
      ]
     },
     "metadata": {
      "needs_background": "light"
     },
     "output_type": "display_data"
    }
   ],
   "source": [
    "print_model_metrics(mlp_mdl_final1, X_subsample_train,y_subsample_train, \"MLP Subsample Train set\")"
   ]
  },
  {
   "cell_type": "code",
   "execution_count": 163,
   "metadata": {},
   "outputs": [
    {
     "name": "stdout",
     "output_type": "stream",
     "text": [
      "Model score accuracy-- 0.9992415907867325\n",
      "Balanced accuracy-- 0.8919910113807119\n",
      "average_precision-- 0.7801608579088471\n",
      "roc_auc_score-- 0.8919910113807119\n",
      "recall_score-- 0.784366576819407\n",
      "f1- 0.782258064516129\n",
      "              precision    recall  f1-score   support\n",
      "\n",
      "   Non-Fraud       1.00      1.00      1.00    213234\n",
      "       Fraud       0.78      0.78      0.78       371\n",
      "\n",
      "    accuracy                           1.00    213605\n",
      "   macro avg       0.89      0.89      0.89    213605\n",
      "weighted avg       1.00      1.00      1.00    213605\n",
      "\n",
      "[[213152     82]\n",
      " [    80    291]]\n"
     ]
    },
    {
     "data": {
      "image/png": "[encoded data removed]",
      "text/plain": [
       "<Figure size 432x288 with 2 Axes>"
      ]
     },
     "metadata": {
      "needs_background": "light"
     },
     "output_type": "display_data"
    }
   ],
   "source": [
    "print_model_metrics(mlp_mdl_final1, X_train,y_train, \"MLP Full Train set\")"
   ]
  },
  {
   "cell_type": "markdown",
   "metadata": {},
   "source": [
    "MLP - After Cross validation - ROC Curve for Train Subsample & Train Full"
   ]
  },
  {
   "cell_type": "code",
   "execution_count": 184,
   "metadata": {},
   "outputs": [
    {
     "data": {
      "image/png": "[encoded data removed]",
      "text/plain": [
       "<Figure size 432x288 with 1 Axes>"
      ]
     },
     "metadata": {
      "needs_background": "light"
     },
     "output_type": "display_data"
    }
   ],
   "source": [
    "multiple_rocauc_curve_subsample_train(mlp_mdl_final1, X_subsample_train, y_subsample_train, X_train, y_train,  \"MLP\")\n",
    "# Both MLP Full Train & Subsample Train have same AUC "
   ]
  },
  {
   "cell_type": "markdown",
   "metadata": {},
   "source": [
    "MLP - After Cross validation - PR Curve for Train Subsample & Train Full"
   ]
  },
  {
   "cell_type": "code",
   "execution_count": 182,
   "metadata": {},
   "outputs": [
    {
     "data": {
      "image/png": "[encoded data removed]",
      "text/plain": [
       "<Figure size 432x288 with 1 Axes>"
      ]
     },
     "metadata": {
      "needs_background": "light"
     },
     "output_type": "display_data"
    }
   ],
   "source": [
    "multiple_pr_curve_subsample_train(mlp_mdl_final1, X_subsample_train, y_subsample_train, X_train, y_train,  \"MLP\")"
   ]
  },
  {
   "cell_type": "markdown",
   "metadata": {},
   "source": [
    "### b) Comparison with appropriate metrics for testing<a class=\"anchor\" id=\"section6.b\"></a>"
   ]
  },
  {
   "cell_type": "markdown",
   "metadata": {},
   "source": [
    "**General definitions needed for evaluation interpretation:**\n",
    "- As per the business requirement, the cost of predicting a FalseNegative costs much higher to bank than FalsePositive. 1 FalseNegative costs 10K whereas 1 FalsePositive costs 1K. As the Fraud cases are much lower, when scoring the model, F1 metric is used which balances the score between FalsePositive & FalseNegatives.\n",
    "- Area under ROC curve plots Sensitivity vs (1-Specificity). Sensitivity is the proportion of the positive class being correctly classified, Specificity is the proportion of the negative class being correctly classified\n",
    "- Area under ROC curve -ROC is a probability curve. AUC represents the degree or measure of separability i.e. it tells how much the model is capable of distinguishing between classes. If AUC is higher, the model is better at predicting 0 classes as 0 and 1 classes as 1.\n",
    "- The precision-recall curve shows the tradeoff between precision and recall for different threshold. A high area under the curve represents both high recall and high precision. High precision means low false positive rate, high recall means low false negative rate.\n",
    "\n",
    "**Interpretation of Test Set evaluation metircs:**\n",
    "- With Recall as the scoring metric, I received too high FalsePositives. F1 scoring helped to maintain a balance between the 2 misclassifications.\n",
    "- With respect to results, on evaluating Random Forest on Test set(~71K records) resulted in lower FalsePositive than MLPClassifier where as FlaseNegative is slightly lower for MLPClassfier by 3 which does not matter as much as FalseNegative which is 5 times higher than RandomForest. Hence, we have a bit higher Recall for RandomForest than MLP & Precision is a but higher for MLP than RF.\n"
   ]
  },
  {
   "cell_type": "markdown",
   "metadata": {},
   "source": [
    "**Interpretation:**\n",
    "In all the evaluations, i.e. Train & Test before & after cross validation, Random Forest has high F1 & recall score than MLP.\n",
    "\n",
    "**Train set Evaluation of 2 models before Cross validation (Results from section 4.d & 5.d)**  \n",
    "\n",
    "| Metric | RF Score |  MLP Score\n",
    "| :- | :- |  :-: | \n",
    "| F1 |  0.87 | 0.77 \n",
    "| Balanced Accuracy | 0.9970  | 0.90\n",
    "| Precision  | 0.7817 | 0.74 \n",
    "| Recall   | 0.9946  |0.81  \n",
    "| ROC AUC score    | 1|0.90 \n",
    "| PR Curve  |  0.94 |0.78 \n",
    "| FP | 103/213605|101/213605 \n",
    "| FN | 2/213605|70/213605 \n",
    "\n",
    "\n",
    "**Train set Evaluation of 2 models after Cross Validation (Results from section 6.a)** \n",
    "\n",
    "| Metric | RF Score | MLP Score  \n",
    "| :- |:- | :-: |  \n",
    "| F1 | 0.911547  | 0.7822\n",
    "| Balanced Accuracy | 0.9998 |0.8919   \n",
    "| Precision | 0.83747  | 0.7801\n",
    "| Recall | 1  |0.7843  \n",
    "| ROC AUC score | 0.9998 | 0.8919\n",
    "| PR Curve | 0.95| 0.73\n",
    "| FP | 72/213605  | 82/213605 \n",
    "| FN | 0/213605 | 80/213605 \n",
    "\n",
    "\n",
    "**Test set Evaluation of 2 models after Cross Validation (Results from this section 6.b)**  \n",
    "\n",
    "| Metric | RF Score | MLP Score  \n",
    "| :- |:- | :-: |  \n",
    "| F1 | 0.8207  | 0.8148 \n",
    "| Balanced Accuracy | 0.9254 |0.9089     \n",
    "| Precision | 0.7923  | 0.8114 \n",
    "| Recall | 0.8512  | 0.8181  \n",
    "| ROC AUC score | 0.9254 | 0.9089\n",
    "| PR Curve | 0.87| 0.78\n",
    "| FP | 27/71202  | 23/71202 \n",
    "| FN | 18/71202 | 22/71202 "
   ]
  },
  {
   "cell_type": "code",
   "execution_count": 137,
   "metadata": {},
   "outputs": [
    {
     "name": "stdout",
     "output_type": "stream",
     "text": [
      "Model score accuracy-- 0.9993679952810315\n",
      "Balanced accuracy-- 0.9254299105397277\n",
      "average_precision-- 0.7923076923076923\n",
      "roc_auc_score-- 0.9254299105397277\n",
      "recall_score-- 0.8512396694214877\n",
      "f1- 0.8207171314741036\n",
      "              precision    recall  f1-score   support\n",
      "\n",
      "   Non-Fraud       1.00      1.00      1.00     71081\n",
      "       Fraud       0.79      0.85      0.82       121\n",
      "\n",
      "    accuracy                           1.00     71202\n",
      "   macro avg       0.90      0.93      0.91     71202\n",
      "weighted avg       1.00      1.00      1.00     71202\n",
      "\n",
      "[[71054    27]\n",
      " [   18   103]]\n"
     ]
    },
    {
     "data": {
      "image/png": "[encoded data removed]",
      "text/plain": [
       "<Figure size 432x288 with 2 Axes>"
      ]
     },
     "metadata": {
      "needs_background": "light"
     },
     "output_type": "display_data"
    }
   ],
   "source": [
    "print_model_metrics(rf_mdl_final1,X_test, y_test, \"RF Test Set\")"
   ]
  },
  {
   "cell_type": "code",
   "execution_count": 138,
   "metadata": {},
   "outputs": [
    {
     "name": "stdout",
     "output_type": "stream",
     "text": [
      "Model score accuracy-- 0.9993679952810315\n",
      "Balanced accuracy-- 0.9089291218341176\n",
      "average_precision-- 0.8114754098360656\n",
      "roc_auc_score-- 0.9089291218341176\n",
      "recall_score-- 0.8181818181818182\n",
      "f1- 0.8148148148148149\n",
      "              precision    recall  f1-score   support\n",
      "\n",
      "   Non-Fraud       1.00      1.00      1.00     71081\n",
      "       Fraud       0.81      0.82      0.81       121\n",
      "\n",
      "    accuracy                           1.00     71202\n",
      "   macro avg       0.91      0.91      0.91     71202\n",
      "weighted avg       1.00      1.00      1.00     71202\n",
      "\n",
      "[[71058    23]\n",
      " [   22    99]]\n"
     ]
    },
    {
     "data": {
      "image/png": "[encoded data removed]",
      "text/plain": [
       "<Figure size 432x288 with 2 Axes>"
      ]
     },
     "metadata": {
      "needs_background": "light"
     },
     "output_type": "display_data"
    }
   ],
   "source": [
    "print_model_metrics(mlp_mdl_final1,X_test, y_test, \"MLP Test Set\")"
   ]
  },
  {
   "cell_type": "markdown",
   "metadata": {},
   "source": [
    "Comparision of 2 models - Test evaluation metrics"
   ]
  },
  {
   "cell_type": "code",
   "execution_count": 328,
   "metadata": {},
   "outputs": [
    {
     "data": {
      "image/png": "[encoded data removed]",
      "text/plain": [
       "<Figure size 576x360 with 1 Axes>"
      ]
     },
     "metadata": {
      "needs_background": "light"
     },
     "output_type": "display_data"
    }
   ],
   "source": [
    "compare_metrics(rf_mdl_final1,mlp_mdl_final1,X_test, y_test)"
   ]
  },
  {
   "cell_type": "markdown",
   "metadata": {},
   "source": [
    "### c) Model selection (ROC or other charts)<a class=\"anchor\" id=\"section6.c\"></a>"
   ]
  },
  {
   "cell_type": "markdown",
   "metadata": {},
   "source": [
    "Model is selection is the process of selecting the best model for the problem at hand, from among several other possible models of similar prediction powers. So, to evaluate between Random Forest & MLP Classifier, we use below Metrics.\n",
    "\n",
    "**Interpretation of model curves - Conclusion based on Test dataset evaluation**\n",
    "\n",
    "- As per the business requirement, the cost of predicting a FalseNegative costs much higher to bank than FalsePositive. 1 FalseNegative costs 10K whereas 1 FalsePositive costs 1K. As the Fraud cases are much lower, when scoring the model, F1 metric is used which balances the score between FalsePositive & FalseNegatives.\n",
    "\n",
    "- RF gives much lesser FalseNegative (higher recall score) which means much closer to bank requirements satisfaction than MLP.\n",
    "\n",
    "- Area under ROC Curve & PR curve show better results for RF. RF has Area under ROC  curve as 0.93 &  PR curve as 0.87 which is quite good for a model with highly imbalanced classes. \n",
    "\n",
    "- So, Random Forest performed better than MLP overall by reducing the FalseNegative misclassifications & RF can be considered the best model out of the two models.\n"
   ]
  },
  {
   "cell_type": "markdown",
   "metadata": {},
   "source": [
    "Below code - Comparision - After Cross validation - ROC Curve for RF & MLP models"
   ]
  },
  {
   "cell_type": "code",
   "execution_count": 147,
   "metadata": {},
   "outputs": [
    {
     "data": {
      "image/png": "[encoded data removed]",
      "text/plain": [
       "<Figure size 432x288 with 1 Axes>"
      ]
     },
     "metadata": {
      "needs_background": "light"
     },
     "output_type": "display_data"
    }
   ],
   "source": [
    "multiple_rocauc_curve(rf_mdl_final1, mlp_mdl_final1, X_test.values,y_test)"
   ]
  },
  {
   "cell_type": "markdown",
   "metadata": {},
   "source": [
    "Below code - Comparision - After Cross validation - PR Curve for RF & MLP models"
   ]
  },
  {
   "cell_type": "code",
   "execution_count": 152,
   "metadata": {},
   "outputs": [
    {
     "data": {
      "image/png": "[encoded data removed]",
      "text/plain": [
       "<Figure size 432x288 with 1 Axes>"
      ]
     },
     "metadata": {
      "needs_background": "light"
     },
     "output_type": "display_data"
    }
   ],
   "source": [
    "multiple_pr_curve(rf_mdl_final1, mlp_mdl_final1, X_test.values,y_test)"
   ]
  },
  {
   "cell_type": "code",
   "execution_count": null,
   "metadata": {},
   "outputs": [],
   "source": []
  },
  {
   "cell_type": "markdown",
   "metadata": {},
   "source": [
    "## 7. Final recommendation of best model (8 marks)<a class=\"anchor\" id=\"section7\"></a>"
   ]
  },
  {
   "cell_type": "markdown",
   "metadata": {},
   "source": [
    "### a) Discuss the results from a technical perspective, for example, overfitting discussion, complexity and efficiency<a class=\"anchor\" id=\"section7.a\"></a>\n",
    "\n",
    "100-200 words\n",
    "\n",
    "**Overfitting:**  \n",
    "- The best model Random Forest overfits the train dataset as it predicts all the Fraud cases correctly & has a small number of False Positives. Whereas the model has both False Positive & False Negative on Test set. Overfitting could have been managed by doing extensive Grid search. But due to large computing resource Hyper parameter combinations were configured to be minimal. \n",
    "\n",
    "**Complexity:**  \n",
    "- Translating the business requirement to Test set budget, the model is allowed to make 1 FalsePositive & 0 FalseNegative prediction.This is practically an impossible target to be met using any predictive model. The aim of any Machine learning model is to generalise on the training data and not to over fit the training data. A perfect model on train set means overfitting. And such overfitted model, cannot make better predictions on unseen data.\n",
    "- Requirement of allowed FalsePositive as 1 per Testset means the model must score a Precision of 99.99963% & Recall as 1 which is again unrealistic for any Machine learning model given the huge imbalance in classes. \n",
    "- The Machine learning models comes with lot of statistical assumptions & known uncertainty & building an overly complex model with advanced techniques can only result in poor predictions on unseen data. Hence, only solution is to build a model to minimize the False Positives, than with a aim of having a perfectly predictive model.\n",
    "\n",
    "**Efficiency:**   \n",
    "- Efficiency in terms of how well model performs on unseen dataset – As the aim was to reduce fall negatives which is a type 2 error, the recall score that our model gave of 0.93 can be considered a good model. Future scope could be to reduce the recall further by increasing the FalsePositives as FP costs less than FN.\n",
    "- The domain knowledge of the data is important before modelling. As the dataset had 29 features that were Principal components converted by PCA, we applied the model assuming the features were all most important. If the variance explained by each PCA was known, we could have only considered first few components that could have led to a less complex model and better efficiency in reuslts.\n",
    "- The model did relatively well on a subset of train set considered for training. Provided better computational resources, model can be trained on larger hyper parameters & larger dataset, resulting in better results.\n",
    "\n",
    "\n"
   ]
  },
  {
   "cell_type": "markdown",
   "metadata": {},
   "source": [
    "### b) Discuss the results from a business perspective, for example, results interpretation, relevance and balance with technical perspective<a class=\"anchor\" id=\"section7.b\"></a>\n",
    "\n",
    "100-200 words\n",
    "\n",
    "**Result Interpretation:**\n",
    "\n",
    "**Check if the best model(Random Forest) meets the business requirement 1 & 2 with respect to budget**\n",
    "\n",
    "Two main requirement from bank from tecnical perspective:\n",
    "<br>\n",
    "\n",
    "**1.**\tAllowed FalsePositive is £20k for each £100m of actual Non-Fraudulent transactions (True Negative), costs bank 1K per FalsePositive.\n",
    "<br>\n",
    "\n",
    "**2.**\tAllowed FalseNegative is £50k for each £200k of actual Fraudulent transactions (True Positive), costs bank 10K per FalseNegative.\n",
    "<br>\n",
    "\n",
    "- The budget for FalsePositive in our test set is 1.26K where as our model predicted 27 False positive which costs 27K to the bank (1K per FP)\n",
    "        budget fp -  1.2660215840000002 ,predicted_fp_cost - 27K\n",
    "\n",
    "- The budget for FalseNegative in our test set is 3.46K where as our model predicted 18 False Negative which costs 180K to the bank (10K per FN)\n",
    "        budget fn -  3.46399 ,predicted_fn_cost - 180K\n",
    "        \n",
    "- As per the bank requirement, minimizing Type 2 error(FN) is more critical than Type 1 error(FP)\n",
    "\n",
    "- From the results, it is seen that the model has crossed the budget allocated as per both the requirements. As per requirement there should be maximum 1 False Positive and 0 False Negative. But out model predicts 27 False Positive & 18 False Negative.\n",
    "\n",
    "- Comparitively, Random Forest is closer to the bank requirement than MLP model as Random Forest has lesser FalseNegative & hence lesser cost of mis-classification than MLP model.\n",
    "\n",
    "**Relevance with technical perspective:**\n",
    " \n",
    "- Relevance from business perspective means the capacity of the model to determine a Fraud case as True positive & Non-Fraud case as False Negative.  In technical terms it referes to Sensitivity(True Positive Rate) & Specificity(True Negative Rate) .\n",
    "\n",
    "- The best model Random Forest has predicted 27 FP & 18 FN cases. The relavence is visualized in ROC Curve which gives the area under the curve value of 0.93. Area under curve value closer to 1 means that the model is able to predict the actual classes correctly. \n",
    "\n",
    "**Balance with technical perspective:**\n",
    "\n",
    "- F1 score was used throughout for model evaluation to maintain a balance between recall & precision ie FN & FP check during model building. Ideally we could have used \"Recall\" to reduce FalseNegatives, but as the dataset is imbalanced with Fraud cases being minority, using F1 metric seemed a logical option than \"Recall\" or \"Precision\".  \n",
    "        Recall = TP / (TP+FN)  \n",
    "        Precision = TP / (TP+FP)  \n",
    "- The precision-recall curve shows the tradeoff between precision and recall for different threshold. A high area under the curve represents both high recall and high precision. High precision means low false positive rate, high recall means low false negative rate. Random Forest showed a PR curve score as 0.87 which is comparitively better than score of 0.78 by MLP. \n"
   ]
  },
  {
   "cell_type": "markdown",
   "metadata": {},
   "source": [
    "Below code calculates the Budget allowed for misclassification in our Test set & how much our model predicted & how much the model mis-prediction costed to the bank"
   ]
  },
  {
   "cell_type": "code",
   "execution_count": 159,
   "metadata": {},
   "outputs": [
    {
     "name": "stdout",
     "output_type": "stream",
     "text": [
      "Fraud total amount in Test dataset:  13.85596\n",
      "NF total amount in Test dataset:  6330.10792\n",
      "budget fp -  1.2660215840000002 ,predicted_fp_cost - 27\n",
      "budget fn -  3.46399 ,predicted_fn_cost - 180\n"
     ]
    }
   ],
   "source": [
    "# Logic to calulate the Total amount for Fraud & Non-Fraud records from Unscaled Test dataset\n",
    "df_merged_unscaled = pd.concat([df_original_xtest, df_original_ytest], axis=1)\n",
    "df_amount = df_merged_unscaled[[\"Amount\",\"Class\"]] #df_new_xtest\n",
    "type(df_amount)\n",
    "fraud = df_amount[df_amount[\"Class\"]==1]\n",
    "nf= df_amount[df_amount[\"Class\"] ==0]\n",
    "\n",
    "test_fraud_total_amt_k = fraud[\"Amount\"].sum() # original test fraud total amount in pounds\n",
    "test_nf_total_amt_k = nf[\"Amount\"].sum()       # original test non-fraud total amount in pounds\n",
    "\n",
    "test_fraud_total_amt_pounds = test_fraud_total_amt_k/1000 # convert Fraud amount from thousands to pounds\n",
    "test_nf_total_amt_pounds = test_nf_total_amt_k/1000  # convert Non-Fraud amount from thousands to pounds\n",
    "print(\"Fraud total amount in Test dataset: \" , test_fraud_total_amt_pounds)\n",
    "print(\"NF total amount in Test dataset: \" ,test_nf_total_amt_pounds)\n",
    "\n",
    "budget_allowed_fp= (20*test_nf_total_amt_pounds)/100000 # allowed FP budget \n",
    "budget_allowed_fn= (50*test_fraud_total_amt_pounds)/200 # allowed FN budget \n",
    "\n",
    "predicted_fp = 27 # FalsePositive predicted by the Random Forest best model\n",
    "predicted_fn = 18 # FalseNegative predicted by the Random Forest best model\n",
    "predicted_fp_cost = predicted_fp * 1  # calculate cost of FP missclassification, 1K per wrong prediction\n",
    "predicted_fn_cost = predicted_fn * 10  # calculate cost of FN missclassification, 10K per wrong prediction\n",
    "\n",
    "print( \"budget fp - \" , budget_allowed_fp, \",predicted_fp_cost -\",predicted_fp_cost )\n",
    "print( \"budget fn - \" , budget_allowed_fn, \",predicted_fn_cost -\",predicted_fn_cost )\n"
   ]
  },
  {
   "cell_type": "markdown",
   "metadata": {},
   "source": [
    "## 8. Conclusion (8 marks)<a class=\"anchor\" id=\"section8\"></a>"
   ]
  },
  {
   "cell_type": "markdown",
   "metadata": {},
   "source": [
    "### a) What has been successfully accomplished and what has not been successful?<a class=\"anchor\" id=\"section8.a\"></a>\n",
    "100-300 words\n",
    "\n",
    "\n",
    "**Technical accomplishments:**\n",
    "- I have been able to get Recall & precision balance keeping FalseNegatives to <20 for test sample size of ~71K without using any upsampling technique. I used a subsample from train set to train the model. If the sample taken from train set is a fair representation of the population, then subsampling works as good as up-sampling. There is a further scope of improvisation in FalseNegative by increasing the FalsePositives(as cost of FP is way lesser than cost of FN) by extensive Grid search.\n",
    "- I have used “Class Weight” parameter in the Random Forest algorithm randomly samples balanced sample when building decision trees. This was a simple alternative to upsampling. I even tried with various weight ratios as input to class weight. This gave similar results to setting the class weight as “balanced” or “balanced subsample”. Hence, I choose “balanced subsample” as the class weight.\n",
    "- Though limited hyper parameters were tried in Gridsearch and with just 10 iterations of cross validations, the best hyperparameters selected gave good results. With higher computing facility, much larger Grid search combinations can be tried that could lead to better Recall/Precision rates.\n",
    "- Though Mult-layer perceptron did not provide much network layer optimization features, with the basic configurations, Mult-layer perceptron performed better than other classification or clustering techniques. \n",
    "<br>    \n",
    "\n",
    "**Not successful scenarios:**\n",
    "- The business requirement which sets very stringent budget on miss-classifications were not met on Test set. But the False Negative was 18 which can be further reduced with model optimization.\n",
    "\n",
    "- However, the ask in the requirement is impossible to be met by any Machine Learning model. Aim of Machine learning model is to generalize and not to have a perfect prediction on a single dataset. That being said, FalseNegatives can be minimized further with optimal hyper parameter selection & sampling techniques.\n"
   ]
  },
  {
   "cell_type": "markdown",
   "metadata": {},
   "source": [
    "### b) Reflecting back on the analysis, what could you have done differently if you were to do the project again?<a class=\"anchor\" id=\"section8.b\"></a>\n",
    "\n",
    "100-300 words\n",
    "\n",
    "- I could have explored much larger combination of Hyperparameters using GridSearch for current algorithms with better hardware availability (using Google Colab multiple CPUs).\n",
    "- I could have enhanced Random Forest with AdaBoost which works on top of base classifier like Random Forest & performs better than Random Forest because it is involves Boosting technique.\n",
    "- I tried Clustering & anomaly detection algorithm during initial algorithm selection phase did not work well with basic configuration. I could have explored further if the clustering algorithm could have worked better with transformation of data.\n",
    "- Try PyTorch or Keras Neural Network than Sklearn's Multilayer Perceptron because MLP does not allow to fine tune the network with different activation function & other fine grained network control features that PyTorch or Keras provides.\n"
   ]
  },
  {
   "cell_type": "markdown",
   "metadata": {},
   "source": [
    "### c) Provide a wish list of future work that you would like to do<a class=\"anchor\" id=\"section8.c\"></a>\n",
    "\n",
    "100-200 words"
   ]
  },
  {
   "cell_type": "markdown",
   "metadata": {},
   "source": [
    "- Explore much larger combination of Hyperparameters using GridSearch for current algorithms with better hardware availability (using Google Colab multiple CPUs).\n",
    "- Enhance the bagging technique with boosting by using algorithms like AdaBoost that builds weighted trees on top of base classifiers. Both techniques combined results in better evaluation results on unseen dataset.\n",
    "- Try Neural Network frameworks like PyTorch that supports GPU for faster computation on large dataset. Research papers show that T-SNE with autoencoders in Neural Network provide better recall and precision than Scikit-learn algorithms.\n",
    "- Try temporal modelling(\"Time\" feature) and how time factor influences prediction."
   ]
  },
  {
   "cell_type": "code",
   "execution_count": null,
   "metadata": {},
   "outputs": [],
   "source": []
  }
 ],
 "metadata": {
  "kernelspec": {
   "display_name": "Python 3",
   "language": "python",
   "name": "python3"
  },
  "language_info": {
   "codemirror_mode": {
    "name": "ipython",
    "version": 3
   },
   "file_extension": ".py",
   "mimetype": "text/x-python",
   "name": "python",
   "nbconvert_exporter": "python",
   "pygments_lexer": "ipython3",
   "version": "3.8.5"
  }
 },
 "nbformat": 4,
 "nbformat_minor": 2
}
